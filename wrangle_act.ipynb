{
 "cells": [
  {
   "cell_type": "markdown",
   "metadata": {
    "extensions": {
     "jupyter_dashboards": {
      "version": 1,
      "views": {
       "grid_default": {
        "col": 0,
        "height": 4,
        "hidden": false,
        "row": 0,
        "width": 4
       },
       "report_default": {
        "hidden": false
       }
      }
     }
    }
   },
   "source": [
    "# Project: Wrangling and Analyze Data"
   ]
  },
  {
   "cell_type": "markdown",
   "metadata": {},
   "source": [
    "## Data Gathering\n",
    "In the cell below, gather **all** three pieces of data for this project and load them in the notebook. **Note:** the methods required to gather each data are different.\n",
    "1. Directly download the WeRateDogs Twitter archive data (twitter_archive_enhanced.csv)"
   ]
  },
  {
   "cell_type": "code",
   "execution_count": 1,
   "metadata": {},
   "outputs": [],
   "source": [
    "import pandas as pd\n",
    "import numpy as np\n",
    "import matplotlib.pyplot as plt\n",
    "%matplotlib inline\n",
    "import seaborn as sns\n",
    "import json\n",
    "import os\n",
    "import requests\n",
    "import json\n",
    "import re"
   ]
  },
  {
   "cell_type": "code",
   "execution_count": 2,
   "metadata": {
    "extensions": {
     "jupyter_dashboards": {
      "version": 1,
      "views": {
       "grid_default": {
        "hidden": true
       },
       "report_default": {
        "hidden": true
       }
      }
     }
    }
   },
   "outputs": [],
   "source": [
    "# Open the csv file\n",
    "twitter_archive = pd.read_csv('twitter-archive-enhanced.csv')"
   ]
  },
  {
   "cell_type": "markdown",
   "metadata": {},
   "source": [
    "2. Use the Requests library to download the tweet image prediction (image_predictions.tsv)"
   ]
  },
  {
   "cell_type": "code",
   "execution_count": 3,
   "metadata": {},
   "outputs": [],
   "source": [
    "url = 'https://d17h27t6h515a5.cloudfront.net/topher/2017/August/599fd2ad_image-predictions/image-predictions.tsv'\n",
    "image_request = requests.get(url)\n",
    "\n",
    "with open('image_predictions.tsv' , 'wb') as f:\n",
    "    f.write(image_request.content)\n"
   ]
  },
  {
   "cell_type": "code",
   "execution_count": 4,
   "metadata": {},
   "outputs": [],
   "source": [
    "image_predictions = pd.read_csv('image_predictions.tsv', sep = '\\t')"
   ]
  },
  {
   "cell_type": "markdown",
   "metadata": {},
   "source": [
    "3. Use the Tweepy library to query additional data via the Twitter API (tweet_json.txt)"
   ]
  },
  {
   "cell_type": "code",
   "execution_count": 5,
   "metadata": {},
   "outputs": [],
   "source": [
    "#df_tweet_json = pd.read_json('tweet_json.txt', lines=True)\n",
    "#df_tweet_json.head()\n",
    "import tweepy\n",
    "\n",
    "consumer_key = 'aMYul4dxQ2EqdHms1GpM09AHs'\n",
    "consumer_secret = 'd06SnhfYE0wLVivzLQYHMuKS6gHakyRAMfBLFU3GfZ5dXxDjHz'\n",
    "access_token = '948740324821671936-svT2IMPVtsMSRgo1cR2FofR9Nbi1H8q'\n",
    "access_secret = 'SyvAI4E0G9ZAjLx6XCIS1N5gAByFPD6xZuA3fr3FkB9Zn' \n",
    "\n",
    "auth = tweepy.OAuthHandler(consumer_key, consumer_secret)\n",
    "auth.set_access_token(access_token, access_secret)\n",
    "\n",
    "api = tweepy.API(auth, wait_on_rate_limit=True, wait_on_rate_limit_notify=True)"
   ]
  },
  {
   "cell_type": "code",
   "execution_count": 6,
   "metadata": {},
   "outputs": [],
   "source": [
    "with open('tweet_json.txt', 'a', encoding='utf8')as f:\n",
    "    for tweet_id in twitter_archive['tweet_id']:\n",
    "        try:\n",
    "            tweet = api.get_status(tweet_id)\n",
    "            json.dump(tweet._json, f)\n",
    "            f.write('\\n')\n",
    "        except:\n",
    "            continue"
   ]
  },
  {
   "cell_type": "code",
   "execution_count": 7,
   "metadata": {},
   "outputs": [],
   "source": [
    "# twitter_data = pd.DataFrame(columns=['tweet_id','retweet_count','favorite_count'])\n",
    "\n",
    "# with open('tweet_json.txt') as f:\n",
    "#     for line in f:\n",
    "#         data = json.loads(line)\n",
    "#         tweet_id = data['id_str'],\n",
    "#         retweet_count = data['retweet_count'],\n",
    "#         favorite_count = data['favorite_count']\n",
    "#         twitter_data = twitter_data.append(pd.DataFrame([[tweet_id,retweet_count,favorite_count]], \n",
    "#                                               columns=['tweet_id','retweet_count','favorite_count']))\n",
    "# twitter_data = twitter_data.reset_index(drop=True)"
   ]
  },
  {
   "cell_type": "code",
   "execution_count": 8,
   "metadata": {},
   "outputs": [],
   "source": [
    "twitter_list = []\n",
    "with open('tweet_json.txt', 'r') as f:\n",
    "    for line in f:\n",
    "        data = json.loads(line)\n",
    "        twitter_list.append({'tweet_id' :data['id_str'],\n",
    "                        'retweet_count' :data['retweet_count'],\n",
    "                        'favorite_count' :data['favorite_count']})"
   ]
  },
  {
   "cell_type": "code",
   "execution_count": 9,
   "metadata": {},
   "outputs": [],
   "source": [
    "twitter_data = pd.DataFrame(twitter_list, columns=['tweet_id','retweet_count','favorite_count'])\n"
   ]
  },
  {
   "cell_type": "markdown",
   "metadata": {
    "extensions": {
     "jupyter_dashboards": {
      "version": 1,
      "views": {
       "grid_default": {
        "col": 4,
        "height": 4,
        "hidden": false,
        "row": 28,
        "width": 4
       },
       "report_default": {
        "hidden": false
       }
      }
     }
    }
   },
   "source": [
    "## Assessing Data\n",
    "In this section, detect and document at least **eight (8) quality issues and two (2) tidiness issue**. You must use **both** visual assessment\n",
    "programmatic assessement to assess the data.\n",
    "\n",
    "**Note:** pay attention to the following key points when you access the data.\n",
    "\n",
    "* You only want original ratings (no retweets) that have images. Though there are 5000+ tweets in the dataset, not all are dog ratings and some are retweets.\n",
    "* Assessing and cleaning the entire dataset completely would require a lot of time, and is not necessary to practice and demonstrate your skills in data wrangling. Therefore, the requirements of this project are only to assess and clean at least 8 quality issues and at least 2 tidiness issues in this dataset.\n",
    "* The fact that the rating numerators are greater than the denominators does not need to be cleaned. This [unique rating system](http://knowyourmeme.com/memes/theyre-good-dogs-brent) is a big part of the popularity of WeRateDogs.\n",
    "* You do not need to gather the tweets beyond August 1st, 2017. You can, but note that you won't be able to gather the image predictions for these tweets since you don't have access to the algorithm used.\n",
    "\n"
   ]
  },
  {
   "cell_type": "code",
   "execution_count": 10,
   "metadata": {},
   "outputs": [
    {
     "data": {
      "text/html": [
       "<div>\n",
       "<style scoped>\n",
       "    .dataframe tbody tr th:only-of-type {\n",
       "        vertical-align: middle;\n",
       "    }\n",
       "\n",
       "    .dataframe tbody tr th {\n",
       "        vertical-align: top;\n",
       "    }\n",
       "\n",
       "    .dataframe thead th {\n",
       "        text-align: right;\n",
       "    }\n",
       "</style>\n",
       "<table border=\"1\" class=\"dataframe\">\n",
       "  <thead>\n",
       "    <tr style=\"text-align: right;\">\n",
       "      <th></th>\n",
       "      <th>tweet_id</th>\n",
       "      <th>retweet_count</th>\n",
       "      <th>favorite_count</th>\n",
       "    </tr>\n",
       "  </thead>\n",
       "  <tbody>\n",
       "    <tr>\n",
       "      <th>0</th>\n",
       "      <td>892420643555336193</td>\n",
       "      <td>8853</td>\n",
       "      <td>39467</td>\n",
       "    </tr>\n",
       "    <tr>\n",
       "      <th>1</th>\n",
       "      <td>892177421306343426</td>\n",
       "      <td>6514</td>\n",
       "      <td>33819</td>\n",
       "    </tr>\n",
       "    <tr>\n",
       "      <th>2</th>\n",
       "      <td>891815181378084864</td>\n",
       "      <td>4328</td>\n",
       "      <td>25461</td>\n",
       "    </tr>\n",
       "    <tr>\n",
       "      <th>3</th>\n",
       "      <td>891689557279858688</td>\n",
       "      <td>8964</td>\n",
       "      <td>42908</td>\n",
       "    </tr>\n",
       "    <tr>\n",
       "      <th>4</th>\n",
       "      <td>891327558926688256</td>\n",
       "      <td>9774</td>\n",
       "      <td>41048</td>\n",
       "    </tr>\n",
       "  </tbody>\n",
       "</table>\n",
       "</div>"
      ],
      "text/plain": [
       "             tweet_id  retweet_count  favorite_count\n",
       "0  892420643555336193           8853           39467\n",
       "1  892177421306343426           6514           33819\n",
       "2  891815181378084864           4328           25461\n",
       "3  891689557279858688           8964           42908\n",
       "4  891327558926688256           9774           41048"
      ]
     },
     "execution_count": 10,
     "metadata": {},
     "output_type": "execute_result"
    }
   ],
   "source": [
    "twitter_data.head()"
   ]
  },
  {
   "cell_type": "code",
   "execution_count": 11,
   "metadata": {},
   "outputs": [
    {
     "name": "stdout",
     "output_type": "stream",
     "text": [
      "<class 'pandas.core.frame.DataFrame'>\n",
      "RangeIndex: 2354 entries, 0 to 2353\n",
      "Data columns (total 3 columns):\n",
      "tweet_id          2354 non-null object\n",
      "retweet_count     2354 non-null int64\n",
      "favorite_count    2354 non-null int64\n",
      "dtypes: int64(2), object(1)\n",
      "memory usage: 55.2+ KB\n"
     ]
    }
   ],
   "source": [
    "twitter_data.info()"
   ]
  },
  {
   "cell_type": "code",
   "execution_count": 12,
   "metadata": {},
   "outputs": [
    {
     "data": {
      "text/html": [
       "<div>\n",
       "<style scoped>\n",
       "    .dataframe tbody tr th:only-of-type {\n",
       "        vertical-align: middle;\n",
       "    }\n",
       "\n",
       "    .dataframe tbody tr th {\n",
       "        vertical-align: top;\n",
       "    }\n",
       "\n",
       "    .dataframe thead th {\n",
       "        text-align: right;\n",
       "    }\n",
       "</style>\n",
       "<table border=\"1\" class=\"dataframe\">\n",
       "  <thead>\n",
       "    <tr style=\"text-align: right;\">\n",
       "      <th></th>\n",
       "      <th>tweet_id</th>\n",
       "      <th>jpg_url</th>\n",
       "      <th>img_num</th>\n",
       "      <th>p1</th>\n",
       "      <th>p1_conf</th>\n",
       "      <th>p1_dog</th>\n",
       "      <th>p2</th>\n",
       "      <th>p2_conf</th>\n",
       "      <th>p2_dog</th>\n",
       "      <th>p3</th>\n",
       "      <th>p3_conf</th>\n",
       "      <th>p3_dog</th>\n",
       "    </tr>\n",
       "  </thead>\n",
       "  <tbody>\n",
       "    <tr>\n",
       "      <th>0</th>\n",
       "      <td>666020888022790149</td>\n",
       "      <td>https://pbs.twimg.com/media/CT4udn0WwAA0aMy.jpg</td>\n",
       "      <td>1</td>\n",
       "      <td>Welsh_springer_spaniel</td>\n",
       "      <td>0.465074</td>\n",
       "      <td>True</td>\n",
       "      <td>collie</td>\n",
       "      <td>0.156665</td>\n",
       "      <td>True</td>\n",
       "      <td>Shetland_sheepdog</td>\n",
       "      <td>0.061428</td>\n",
       "      <td>True</td>\n",
       "    </tr>\n",
       "    <tr>\n",
       "      <th>1</th>\n",
       "      <td>666029285002620928</td>\n",
       "      <td>https://pbs.twimg.com/media/CT42GRgUYAA5iDo.jpg</td>\n",
       "      <td>1</td>\n",
       "      <td>redbone</td>\n",
       "      <td>0.506826</td>\n",
       "      <td>True</td>\n",
       "      <td>miniature_pinscher</td>\n",
       "      <td>0.074192</td>\n",
       "      <td>True</td>\n",
       "      <td>Rhodesian_ridgeback</td>\n",
       "      <td>0.072010</td>\n",
       "      <td>True</td>\n",
       "    </tr>\n",
       "    <tr>\n",
       "      <th>2</th>\n",
       "      <td>666033412701032449</td>\n",
       "      <td>https://pbs.twimg.com/media/CT4521TWwAEvMyu.jpg</td>\n",
       "      <td>1</td>\n",
       "      <td>German_shepherd</td>\n",
       "      <td>0.596461</td>\n",
       "      <td>True</td>\n",
       "      <td>malinois</td>\n",
       "      <td>0.138584</td>\n",
       "      <td>True</td>\n",
       "      <td>bloodhound</td>\n",
       "      <td>0.116197</td>\n",
       "      <td>True</td>\n",
       "    </tr>\n",
       "    <tr>\n",
       "      <th>3</th>\n",
       "      <td>666044226329800704</td>\n",
       "      <td>https://pbs.twimg.com/media/CT5Dr8HUEAA-lEu.jpg</td>\n",
       "      <td>1</td>\n",
       "      <td>Rhodesian_ridgeback</td>\n",
       "      <td>0.408143</td>\n",
       "      <td>True</td>\n",
       "      <td>redbone</td>\n",
       "      <td>0.360687</td>\n",
       "      <td>True</td>\n",
       "      <td>miniature_pinscher</td>\n",
       "      <td>0.222752</td>\n",
       "      <td>True</td>\n",
       "    </tr>\n",
       "    <tr>\n",
       "      <th>4</th>\n",
       "      <td>666049248165822465</td>\n",
       "      <td>https://pbs.twimg.com/media/CT5IQmsXIAAKY4A.jpg</td>\n",
       "      <td>1</td>\n",
       "      <td>miniature_pinscher</td>\n",
       "      <td>0.560311</td>\n",
       "      <td>True</td>\n",
       "      <td>Rottweiler</td>\n",
       "      <td>0.243682</td>\n",
       "      <td>True</td>\n",
       "      <td>Doberman</td>\n",
       "      <td>0.154629</td>\n",
       "      <td>True</td>\n",
       "    </tr>\n",
       "  </tbody>\n",
       "</table>\n",
       "</div>"
      ],
      "text/plain": [
       "             tweet_id                                          jpg_url  \\\n",
       "0  666020888022790149  https://pbs.twimg.com/media/CT4udn0WwAA0aMy.jpg   \n",
       "1  666029285002620928  https://pbs.twimg.com/media/CT42GRgUYAA5iDo.jpg   \n",
       "2  666033412701032449  https://pbs.twimg.com/media/CT4521TWwAEvMyu.jpg   \n",
       "3  666044226329800704  https://pbs.twimg.com/media/CT5Dr8HUEAA-lEu.jpg   \n",
       "4  666049248165822465  https://pbs.twimg.com/media/CT5IQmsXIAAKY4A.jpg   \n",
       "\n",
       "   img_num                      p1   p1_conf  p1_dog                  p2  \\\n",
       "0        1  Welsh_springer_spaniel  0.465074    True              collie   \n",
       "1        1                 redbone  0.506826    True  miniature_pinscher   \n",
       "2        1         German_shepherd  0.596461    True            malinois   \n",
       "3        1     Rhodesian_ridgeback  0.408143    True             redbone   \n",
       "4        1      miniature_pinscher  0.560311    True          Rottweiler   \n",
       "\n",
       "    p2_conf  p2_dog                   p3   p3_conf  p3_dog  \n",
       "0  0.156665    True    Shetland_sheepdog  0.061428    True  \n",
       "1  0.074192    True  Rhodesian_ridgeback  0.072010    True  \n",
       "2  0.138584    True           bloodhound  0.116197    True  \n",
       "3  0.360687    True   miniature_pinscher  0.222752    True  \n",
       "4  0.243682    True             Doberman  0.154629    True  "
      ]
     },
     "execution_count": 12,
     "metadata": {},
     "output_type": "execute_result"
    }
   ],
   "source": [
    "image_predictions.head()"
   ]
  },
  {
   "cell_type": "code",
   "execution_count": 13,
   "metadata": {},
   "outputs": [
    {
     "name": "stdout",
     "output_type": "stream",
     "text": [
      "<class 'pandas.core.frame.DataFrame'>\n",
      "RangeIndex: 2075 entries, 0 to 2074\n",
      "Data columns (total 12 columns):\n",
      "tweet_id    2075 non-null int64\n",
      "jpg_url     2075 non-null object\n",
      "img_num     2075 non-null int64\n",
      "p1          2075 non-null object\n",
      "p1_conf     2075 non-null float64\n",
      "p1_dog      2075 non-null bool\n",
      "p2          2075 non-null object\n",
      "p2_conf     2075 non-null float64\n",
      "p2_dog      2075 non-null bool\n",
      "p3          2075 non-null object\n",
      "p3_conf     2075 non-null float64\n",
      "p3_dog      2075 non-null bool\n",
      "dtypes: bool(3), float64(3), int64(2), object(4)\n",
      "memory usage: 152.1+ KB\n"
     ]
    }
   ],
   "source": [
    "image_predictions.info()"
   ]
  },
  {
   "cell_type": "code",
   "execution_count": 14,
   "metadata": {},
   "outputs": [
    {
     "data": {
      "text/plain": [
       "0"
      ]
     },
     "execution_count": 14,
     "metadata": {},
     "output_type": "execute_result"
    }
   ],
   "source": [
    "image_predictions.duplicated().sum()"
   ]
  },
  {
   "cell_type": "code",
   "execution_count": 15,
   "metadata": {
    "scrolled": true
   },
   "outputs": [
    {
     "name": "stdout",
     "output_type": "stream",
     "text": [
      "<class 'pandas.core.frame.DataFrame'>\n",
      "RangeIndex: 2356 entries, 0 to 2355\n",
      "Data columns (total 17 columns):\n",
      "tweet_id                      2356 non-null int64\n",
      "in_reply_to_status_id         78 non-null float64\n",
      "in_reply_to_user_id           78 non-null float64\n",
      "timestamp                     2356 non-null object\n",
      "source                        2356 non-null object\n",
      "text                          2356 non-null object\n",
      "retweeted_status_id           181 non-null float64\n",
      "retweeted_status_user_id      181 non-null float64\n",
      "retweeted_status_timestamp    181 non-null object\n",
      "expanded_urls                 2297 non-null object\n",
      "rating_numerator              2356 non-null int64\n",
      "rating_denominator            2356 non-null int64\n",
      "name                          2356 non-null object\n",
      "doggo                         2356 non-null object\n",
      "floofer                       2356 non-null object\n",
      "pupper                        2356 non-null object\n",
      "puppo                         2356 non-null object\n",
      "dtypes: float64(4), int64(3), object(10)\n",
      "memory usage: 313.0+ KB\n"
     ]
    }
   ],
   "source": [
    "twitter_archive.info()"
   ]
  },
  {
   "cell_type": "code",
   "execution_count": 16,
   "metadata": {},
   "outputs": [
    {
     "data": {
      "text/plain": [
       "0"
      ]
     },
     "execution_count": 16,
     "metadata": {},
     "output_type": "execute_result"
    }
   ],
   "source": [
    "twitter_archive.duplicated().sum()"
   ]
  },
  {
   "cell_type": "code",
   "execution_count": 17,
   "metadata": {},
   "outputs": [
    {
     "data": {
      "text/html": [
       "<div>\n",
       "<style scoped>\n",
       "    .dataframe tbody tr th:only-of-type {\n",
       "        vertical-align: middle;\n",
       "    }\n",
       "\n",
       "    .dataframe tbody tr th {\n",
       "        vertical-align: top;\n",
       "    }\n",
       "\n",
       "    .dataframe thead th {\n",
       "        text-align: right;\n",
       "    }\n",
       "</style>\n",
       "<table border=\"1\" class=\"dataframe\">\n",
       "  <thead>\n",
       "    <tr style=\"text-align: right;\">\n",
       "      <th></th>\n",
       "      <th>tweet_id</th>\n",
       "      <th>in_reply_to_status_id</th>\n",
       "      <th>in_reply_to_user_id</th>\n",
       "      <th>timestamp</th>\n",
       "      <th>source</th>\n",
       "      <th>text</th>\n",
       "      <th>retweeted_status_id</th>\n",
       "      <th>retweeted_status_user_id</th>\n",
       "      <th>retweeted_status_timestamp</th>\n",
       "      <th>expanded_urls</th>\n",
       "      <th>rating_numerator</th>\n",
       "      <th>rating_denominator</th>\n",
       "      <th>name</th>\n",
       "      <th>doggo</th>\n",
       "      <th>floofer</th>\n",
       "      <th>pupper</th>\n",
       "      <th>puppo</th>\n",
       "    </tr>\n",
       "  </thead>\n",
       "  <tbody>\n",
       "    <tr>\n",
       "      <th>121</th>\n",
       "      <td>869596645499047938</td>\n",
       "      <td>NaN</td>\n",
       "      <td>NaN</td>\n",
       "      <td>2017-05-30 16:49:31 +0000</td>\n",
       "      <td>&lt;a href=\"http://twitter.com/download/iphone\" r...</td>\n",
       "      <td>This is Scout. He just graduated. Officially a...</td>\n",
       "      <td>NaN</td>\n",
       "      <td>NaN</td>\n",
       "      <td>NaN</td>\n",
       "      <td>https://twitter.com/dog_rates/status/869596645...</td>\n",
       "      <td>12</td>\n",
       "      <td>10</td>\n",
       "      <td>Scout</td>\n",
       "      <td>doggo</td>\n",
       "      <td>None</td>\n",
       "      <td>None</td>\n",
       "      <td>None</td>\n",
       "    </tr>\n",
       "    <tr>\n",
       "      <th>1635</th>\n",
       "      <td>684222868335505415</td>\n",
       "      <td>NaN</td>\n",
       "      <td>NaN</td>\n",
       "      <td>2016-01-05 04:00:18 +0000</td>\n",
       "      <td>&lt;a href=\"http://twitter.com/download/iphone\" r...</td>\n",
       "      <td>Someone help the girl is being mugged. Several...</td>\n",
       "      <td>NaN</td>\n",
       "      <td>NaN</td>\n",
       "      <td>NaN</td>\n",
       "      <td>https://twitter.com/dog_rates/status/684222868...</td>\n",
       "      <td>121</td>\n",
       "      <td>110</td>\n",
       "      <td>None</td>\n",
       "      <td>None</td>\n",
       "      <td>None</td>\n",
       "      <td>None</td>\n",
       "      <td>None</td>\n",
       "    </tr>\n",
       "    <tr>\n",
       "      <th>599</th>\n",
       "      <td>798682547630837760</td>\n",
       "      <td>NaN</td>\n",
       "      <td>NaN</td>\n",
       "      <td>2016-11-16 00:22:12 +0000</td>\n",
       "      <td>&lt;a href=\"http://twitter.com/download/iphone\" r...</td>\n",
       "      <td>RT @dog_rates: Here we see a rare pouched pupp...</td>\n",
       "      <td>6.769365e+17</td>\n",
       "      <td>4.196984e+09</td>\n",
       "      <td>2015-12-16 01:27:03 +0000</td>\n",
       "      <td>https://twitter.com/dog_rates/status/676936541...</td>\n",
       "      <td>8</td>\n",
       "      <td>10</td>\n",
       "      <td>None</td>\n",
       "      <td>None</td>\n",
       "      <td>None</td>\n",
       "      <td>pupper</td>\n",
       "      <td>None</td>\n",
       "    </tr>\n",
       "    <tr>\n",
       "      <th>39</th>\n",
       "      <td>884876753390489601</td>\n",
       "      <td>NaN</td>\n",
       "      <td>NaN</td>\n",
       "      <td>2017-07-11 20:47:12 +0000</td>\n",
       "      <td>&lt;a href=\"http://twitter.com/download/iphone\" r...</td>\n",
       "      <td>This is Lola. It's her first time outside. Mus...</td>\n",
       "      <td>NaN</td>\n",
       "      <td>NaN</td>\n",
       "      <td>NaN</td>\n",
       "      <td>https://twitter.com/dog_rates/status/884876753...</td>\n",
       "      <td>13</td>\n",
       "      <td>10</td>\n",
       "      <td>Lola</td>\n",
       "      <td>None</td>\n",
       "      <td>None</td>\n",
       "      <td>None</td>\n",
       "      <td>None</td>\n",
       "    </tr>\n",
       "    <tr>\n",
       "      <th>84</th>\n",
       "      <td>876484053909872640</td>\n",
       "      <td>NaN</td>\n",
       "      <td>NaN</td>\n",
       "      <td>2017-06-18 16:57:37 +0000</td>\n",
       "      <td>&lt;a href=\"http://twitter.com/download/iphone\" r...</td>\n",
       "      <td>This is Benedict. He wants to thank you for th...</td>\n",
       "      <td>NaN</td>\n",
       "      <td>NaN</td>\n",
       "      <td>NaN</td>\n",
       "      <td>https://twitter.com/dog_rates/status/876484053...</td>\n",
       "      <td>13</td>\n",
       "      <td>10</td>\n",
       "      <td>Benedict</td>\n",
       "      <td>None</td>\n",
       "      <td>None</td>\n",
       "      <td>None</td>\n",
       "      <td>None</td>\n",
       "    </tr>\n",
       "    <tr>\n",
       "      <th>277</th>\n",
       "      <td>840370681858686976</td>\n",
       "      <td>NaN</td>\n",
       "      <td>NaN</td>\n",
       "      <td>2017-03-11 01:15:58 +0000</td>\n",
       "      <td>&lt;a href=\"http://twitter.com/download/iphone\" r...</td>\n",
       "      <td>You have been visited by the magical sugar jar...</td>\n",
       "      <td>NaN</td>\n",
       "      <td>NaN</td>\n",
       "      <td>NaN</td>\n",
       "      <td>https://twitter.com/dog_rates/status/840370681...</td>\n",
       "      <td>13</td>\n",
       "      <td>10</td>\n",
       "      <td>None</td>\n",
       "      <td>None</td>\n",
       "      <td>None</td>\n",
       "      <td>None</td>\n",
       "      <td>None</td>\n",
       "    </tr>\n",
       "    <tr>\n",
       "      <th>1408</th>\n",
       "      <td>699072405256409088</td>\n",
       "      <td>NaN</td>\n",
       "      <td>NaN</td>\n",
       "      <td>2016-02-15 03:27:04 +0000</td>\n",
       "      <td>&lt;a href=\"http://twitter.com/download/iphone\" r...</td>\n",
       "      <td>ERMAHGERD 12/10 please enjoy https://t.co/7WrA...</td>\n",
       "      <td>NaN</td>\n",
       "      <td>NaN</td>\n",
       "      <td>NaN</td>\n",
       "      <td>https://twitter.com/dog_rates/status/699072405...</td>\n",
       "      <td>12</td>\n",
       "      <td>10</td>\n",
       "      <td>None</td>\n",
       "      <td>None</td>\n",
       "      <td>None</td>\n",
       "      <td>None</td>\n",
       "      <td>None</td>\n",
       "    </tr>\n",
       "    <tr>\n",
       "      <th>1407</th>\n",
       "      <td>699079609774645248</td>\n",
       "      <td>NaN</td>\n",
       "      <td>NaN</td>\n",
       "      <td>2016-02-15 03:55:41 +0000</td>\n",
       "      <td>&lt;a href=\"http://twitter.com/download/iphone\" r...</td>\n",
       "      <td>Meet Reagan. He's a Persnicketus Derpson. Grea...</td>\n",
       "      <td>NaN</td>\n",
       "      <td>NaN</td>\n",
       "      <td>NaN</td>\n",
       "      <td>https://twitter.com/dog_rates/status/699079609...</td>\n",
       "      <td>8</td>\n",
       "      <td>10</td>\n",
       "      <td>Reagan</td>\n",
       "      <td>None</td>\n",
       "      <td>None</td>\n",
       "      <td>None</td>\n",
       "      <td>None</td>\n",
       "    </tr>\n",
       "    <tr>\n",
       "      <th>279</th>\n",
       "      <td>839990271299457024</td>\n",
       "      <td>NaN</td>\n",
       "      <td>NaN</td>\n",
       "      <td>2017-03-10 00:04:21 +0000</td>\n",
       "      <td>&lt;a href=\"http://twitter.com/download/iphone\" r...</td>\n",
       "      <td>Meet Sojourner. His nose is a Fibonacci Spiral...</td>\n",
       "      <td>NaN</td>\n",
       "      <td>NaN</td>\n",
       "      <td>NaN</td>\n",
       "      <td>https://twitter.com/dog_rates/status/839990271...</td>\n",
       "      <td>13</td>\n",
       "      <td>10</td>\n",
       "      <td>Sojourner</td>\n",
       "      <td>None</td>\n",
       "      <td>None</td>\n",
       "      <td>None</td>\n",
       "      <td>None</td>\n",
       "    </tr>\n",
       "    <tr>\n",
       "      <th>1478</th>\n",
       "      <td>693590843962331137</td>\n",
       "      <td>NaN</td>\n",
       "      <td>NaN</td>\n",
       "      <td>2016-01-31 00:25:18 +0000</td>\n",
       "      <td>&lt;a href=\"http://twitter.com/download/iphone\" r...</td>\n",
       "      <td>Meet Phil. He's big af. Currently destroying t...</td>\n",
       "      <td>NaN</td>\n",
       "      <td>NaN</td>\n",
       "      <td>NaN</td>\n",
       "      <td>https://twitter.com/dog_rates/status/693590843...</td>\n",
       "      <td>3</td>\n",
       "      <td>10</td>\n",
       "      <td>Phil</td>\n",
       "      <td>None</td>\n",
       "      <td>None</td>\n",
       "      <td>pupper</td>\n",
       "      <td>None</td>\n",
       "    </tr>\n",
       "  </tbody>\n",
       "</table>\n",
       "</div>"
      ],
      "text/plain": [
       "                tweet_id  in_reply_to_status_id  in_reply_to_user_id  \\\n",
       "121   869596645499047938                    NaN                  NaN   \n",
       "1635  684222868335505415                    NaN                  NaN   \n",
       "599   798682547630837760                    NaN                  NaN   \n",
       "39    884876753390489601                    NaN                  NaN   \n",
       "84    876484053909872640                    NaN                  NaN   \n",
       "277   840370681858686976                    NaN                  NaN   \n",
       "1408  699072405256409088                    NaN                  NaN   \n",
       "1407  699079609774645248                    NaN                  NaN   \n",
       "279   839990271299457024                    NaN                  NaN   \n",
       "1478  693590843962331137                    NaN                  NaN   \n",
       "\n",
       "                      timestamp  \\\n",
       "121   2017-05-30 16:49:31 +0000   \n",
       "1635  2016-01-05 04:00:18 +0000   \n",
       "599   2016-11-16 00:22:12 +0000   \n",
       "39    2017-07-11 20:47:12 +0000   \n",
       "84    2017-06-18 16:57:37 +0000   \n",
       "277   2017-03-11 01:15:58 +0000   \n",
       "1408  2016-02-15 03:27:04 +0000   \n",
       "1407  2016-02-15 03:55:41 +0000   \n",
       "279   2017-03-10 00:04:21 +0000   \n",
       "1478  2016-01-31 00:25:18 +0000   \n",
       "\n",
       "                                                 source  \\\n",
       "121   <a href=\"http://twitter.com/download/iphone\" r...   \n",
       "1635  <a href=\"http://twitter.com/download/iphone\" r...   \n",
       "599   <a href=\"http://twitter.com/download/iphone\" r...   \n",
       "39    <a href=\"http://twitter.com/download/iphone\" r...   \n",
       "84    <a href=\"http://twitter.com/download/iphone\" r...   \n",
       "277   <a href=\"http://twitter.com/download/iphone\" r...   \n",
       "1408  <a href=\"http://twitter.com/download/iphone\" r...   \n",
       "1407  <a href=\"http://twitter.com/download/iphone\" r...   \n",
       "279   <a href=\"http://twitter.com/download/iphone\" r...   \n",
       "1478  <a href=\"http://twitter.com/download/iphone\" r...   \n",
       "\n",
       "                                                   text  retweeted_status_id  \\\n",
       "121   This is Scout. He just graduated. Officially a...                  NaN   \n",
       "1635  Someone help the girl is being mugged. Several...                  NaN   \n",
       "599   RT @dog_rates: Here we see a rare pouched pupp...         6.769365e+17   \n",
       "39    This is Lola. It's her first time outside. Mus...                  NaN   \n",
       "84    This is Benedict. He wants to thank you for th...                  NaN   \n",
       "277   You have been visited by the magical sugar jar...                  NaN   \n",
       "1408  ERMAHGERD 12/10 please enjoy https://t.co/7WrA...                  NaN   \n",
       "1407  Meet Reagan. He's a Persnicketus Derpson. Grea...                  NaN   \n",
       "279   Meet Sojourner. His nose is a Fibonacci Spiral...                  NaN   \n",
       "1478  Meet Phil. He's big af. Currently destroying t...                  NaN   \n",
       "\n",
       "      retweeted_status_user_id retweeted_status_timestamp  \\\n",
       "121                        NaN                        NaN   \n",
       "1635                       NaN                        NaN   \n",
       "599               4.196984e+09  2015-12-16 01:27:03 +0000   \n",
       "39                         NaN                        NaN   \n",
       "84                         NaN                        NaN   \n",
       "277                        NaN                        NaN   \n",
       "1408                       NaN                        NaN   \n",
       "1407                       NaN                        NaN   \n",
       "279                        NaN                        NaN   \n",
       "1478                       NaN                        NaN   \n",
       "\n",
       "                                          expanded_urls  rating_numerator  \\\n",
       "121   https://twitter.com/dog_rates/status/869596645...                12   \n",
       "1635  https://twitter.com/dog_rates/status/684222868...               121   \n",
       "599   https://twitter.com/dog_rates/status/676936541...                 8   \n",
       "39    https://twitter.com/dog_rates/status/884876753...                13   \n",
       "84    https://twitter.com/dog_rates/status/876484053...                13   \n",
       "277   https://twitter.com/dog_rates/status/840370681...                13   \n",
       "1408  https://twitter.com/dog_rates/status/699072405...                12   \n",
       "1407  https://twitter.com/dog_rates/status/699079609...                 8   \n",
       "279   https://twitter.com/dog_rates/status/839990271...                13   \n",
       "1478  https://twitter.com/dog_rates/status/693590843...                 3   \n",
       "\n",
       "      rating_denominator       name  doggo floofer  pupper puppo  \n",
       "121                   10      Scout  doggo    None    None  None  \n",
       "1635                 110       None   None    None    None  None  \n",
       "599                   10       None   None    None  pupper  None  \n",
       "39                    10       Lola   None    None    None  None  \n",
       "84                    10   Benedict   None    None    None  None  \n",
       "277                   10       None   None    None    None  None  \n",
       "1408                  10       None   None    None    None  None  \n",
       "1407                  10     Reagan   None    None    None  None  \n",
       "279                   10  Sojourner   None    None    None  None  \n",
       "1478                  10       Phil   None    None  pupper  None  "
      ]
     },
     "execution_count": 17,
     "metadata": {},
     "output_type": "execute_result"
    }
   ],
   "source": [
    "twitter_archive.sample(10)"
   ]
  },
  {
   "cell_type": "code",
   "execution_count": 18,
   "metadata": {},
   "outputs": [
    {
     "data": {
      "text/plain": [
       "None        745\n",
       "a            55\n",
       "Charlie      12\n",
       "Lucy         11\n",
       "Oliver       11\n",
       "Cooper       11\n",
       "Tucker       10\n",
       "Lola         10\n",
       "Penny        10\n",
       "Bo            9\n",
       "Winston       9\n",
       "the           8\n",
       "Sadie         8\n",
       "an            7\n",
       "Daisy         7\n",
       "Toby          7\n",
       "Buddy         7\n",
       "Bailey        7\n",
       "Jax           6\n",
       "Koda          6\n",
       "Rusty         6\n",
       "Oscar         6\n",
       "Scout         6\n",
       "Leo           6\n",
       "Jack          6\n",
       "Stanley       6\n",
       "Bella         6\n",
       "Milo          6\n",
       "Dave          6\n",
       "very          5\n",
       "           ... \n",
       "Brudge        1\n",
       "Jiminus       1\n",
       "Orion         1\n",
       "Timmy         1\n",
       "Willem        1\n",
       "Bobby         1\n",
       "Swagger       1\n",
       "Reptar        1\n",
       "Bradley       1\n",
       "Kuyu          1\n",
       "Kingsley      1\n",
       "Mojo          1\n",
       "Ulysses       1\n",
       "Rambo         1\n",
       "Hector        1\n",
       "Rose          1\n",
       "Ralphé        1\n",
       "Walker        1\n",
       "Fiji          1\n",
       "Harry         1\n",
       "Brian         1\n",
       "Tommy         1\n",
       "Crawford      1\n",
       "Ralphus       1\n",
       "Durg          1\n",
       "Emanuel       1\n",
       "Rudy          1\n",
       "Blanket       1\n",
       "Alf           1\n",
       "Rumble        1\n",
       "Name: name, Length: 957, dtype: int64"
      ]
     },
     "execution_count": 18,
     "metadata": {},
     "output_type": "execute_result"
    }
   ],
   "source": [
    "twitter_archive.name.value_counts()"
   ]
  },
  {
   "cell_type": "code",
   "execution_count": 19,
   "metadata": {},
   "outputs": [
    {
     "data": {
      "text/plain": [
       "\"This is Phineas. He's a mystical boy. Only ever appears in the hole of a donut. 13/10 https://t.co/MgUWQ76dJU\""
      ]
     },
     "execution_count": 19,
     "metadata": {},
     "output_type": "execute_result"
    }
   ],
   "source": [
    "twitter_archive.text[0]"
   ]
  },
  {
   "cell_type": "code",
   "execution_count": 20,
   "metadata": {},
   "outputs": [
    {
     "data": {
      "text/plain": [
       "tweet_id                         0\n",
       "in_reply_to_status_id         2278\n",
       "in_reply_to_user_id           2278\n",
       "timestamp                        0\n",
       "source                           0\n",
       "text                             0\n",
       "retweeted_status_id           2175\n",
       "retweeted_status_user_id      2175\n",
       "retweeted_status_timestamp    2175\n",
       "expanded_urls                   59\n",
       "rating_numerator                 0\n",
       "rating_denominator               0\n",
       "name                             0\n",
       "doggo                            0\n",
       "floofer                          0\n",
       "pupper                           0\n",
       "puppo                            0\n",
       "dtype: int64"
      ]
     },
     "execution_count": 20,
     "metadata": {},
     "output_type": "execute_result"
    }
   ],
   "source": [
    "twitter_archive.isnull().sum()"
   ]
  },
  {
   "cell_type": "markdown",
   "metadata": {
    "extensions": {
     "jupyter_dashboards": {
      "version": 1,
      "views": {
       "grid_default": {
        "col": 0,
        "height": 7,
        "hidden": false,
        "row": 40,
        "width": 12
       },
       "report_default": {
        "hidden": false
       }
      }
     }
    }
   },
   "source": [
    "### Tidiness Issues\n",
    "##### `Twitter Archive Table`\n",
    "1. doggo, floofer, pupper and puppo columns should be merged into one column named \"dog_stage\"\n",
    "\n",
    "\n",
    "##### `Image Prediction Table`\n",
    "1. Image predictions table should be added to Twitter Archive Table\n",
    "\n",
    "##### `Twitter Data Table`\n",
    "1.  Twitter Data Table columns(retweet_count, favorite_count, followers_count) should be added to Twitter Archive Table.\n"
   ]
  },
  {
   "cell_type": "markdown",
   "metadata": {},
   "source": [
    "### Quality issues\n",
    "##### `Twitter Archive Table`\n",
    "1. There are retweet rating data in the dataset\n",
    "\n",
    "2. There are columns not essential for this analysis: in_reply_to_status_id, in_reply_to_user_id, retweeted_status_id, retweeted_status_user_id, retweeted_status_timestamp\n",
    "                                       \n",
    "3. Incorrect datatypes: tweet_id, timestamp, rating_denominator, rating_numerator, source \n",
    "\n",
    "4. Incorrect data value in name(ex.a,an is not a dog name)\n",
    "\n",
    "5. Incorrect data value for column numerators(missing decimals)\n",
    "\n",
    "6. Source column is in HTML-formatted string, not a normal string\n",
    "\n",
    "7. Text column includes texts and a link\n",
    "\n",
    "8. Some data has more than one dog_stage and missing data in dog_stage\n",
    "\n",
    "##### `Image Prediction Table`\n",
    "1. Incorrect datatype for tweet_id\n",
    "2. Missing images(only 2075 images out of 2356)\n",
    "\n",
    "\n",
    "##### `Twitter Data Table`\n",
    "1. Incorrect datatype for tweet_id\n",
    "2. Missing tweets data(only 2354 out of 2356)"
   ]
  },
  {
   "cell_type": "markdown",
   "metadata": {
    "extensions": {
     "jupyter_dashboards": {
      "version": 1,
      "views": {
       "grid_default": {
        "col": 4,
        "height": 4,
        "hidden": false,
        "row": 32,
        "width": 4
       },
       "report_default": {
        "hidden": false
       }
      }
     }
    }
   },
   "source": [
    "## Cleaning Data\n",
    "In this section, clean **all** of the issues you documented while assessing. \n",
    "\n",
    "**Note:** Make a copy of the original data before cleaning. Cleaning includes merging individual pieces of data according to the rules of [tidy data](https://cran.r-project.org/web/packages/tidyr/vignettes/tidy-data.html). The result should be a high-quality and tidy master pandas DataFrame (or DataFrames, if appropriate)."
   ]
  },
  {
   "cell_type": "code",
   "execution_count": 21,
   "metadata": {},
   "outputs": [],
   "source": [
    "# Make copies of original pieces of data\n",
    "image_clean = image_predictions.copy()\n",
    "archive_clean = twitter_archive.copy()\n",
    "twitterdata_clean = twitter_data.copy()"
   ]
  },
  {
   "cell_type": "markdown",
   "metadata": {},
   "source": [
    "### Tidiness Issues\n",
    "#### `Image Prediction Table`\n",
    "\n",
    "#1: Image predictions table and Twitter Data should be added to Twitter Archive Table\n",
    "\n",
    "#### Define\n",
    "- Merge the three tables\n",
    "\n",
    "#### Code"
   ]
  },
  {
   "cell_type": "code",
   "execution_count": 22,
   "metadata": {},
   "outputs": [],
   "source": [
    "archive_clean.doggo.replace('None', '', inplace=True)\n",
    "archive_clean.floofer.replace('None', '', inplace=True)\n",
    "archive_clean.pupper.replace('None', '', inplace=True)\n",
    "archive_clean.puppo.replace('None', '', inplace=True)"
   ]
  },
  {
   "cell_type": "code",
   "execution_count": 23,
   "metadata": {},
   "outputs": [],
   "source": [
    "df_Twitter = pd.concat([archive_clean, twitterdata_clean, image_clean], join='outer', axis=1)\n",
    "                       "
   ]
  },
  {
   "cell_type": "markdown",
   "metadata": {},
   "source": [
    "#### Test"
   ]
  },
  {
   "cell_type": "code",
   "execution_count": 24,
   "metadata": {},
   "outputs": [
    {
     "name": "stdout",
     "output_type": "stream",
     "text": [
      "<class 'pandas.core.frame.DataFrame'>\n",
      "RangeIndex: 2356 entries, 0 to 2355\n",
      "Data columns (total 32 columns):\n",
      "tweet_id                      2356 non-null int64\n",
      "in_reply_to_status_id         78 non-null float64\n",
      "in_reply_to_user_id           78 non-null float64\n",
      "timestamp                     2356 non-null object\n",
      "source                        2356 non-null object\n",
      "text                          2356 non-null object\n",
      "retweeted_status_id           181 non-null float64\n",
      "retweeted_status_user_id      181 non-null float64\n",
      "retweeted_status_timestamp    181 non-null object\n",
      "expanded_urls                 2297 non-null object\n",
      "rating_numerator              2356 non-null int64\n",
      "rating_denominator            2356 non-null int64\n",
      "name                          2356 non-null object\n",
      "doggo                         2356 non-null object\n",
      "floofer                       2356 non-null object\n",
      "pupper                        2356 non-null object\n",
      "puppo                         2356 non-null object\n",
      "tweet_id                      2354 non-null object\n",
      "retweet_count                 2354 non-null float64\n",
      "favorite_count                2354 non-null float64\n",
      "tweet_id                      2075 non-null float64\n",
      "jpg_url                       2075 non-null object\n",
      "img_num                       2075 non-null float64\n",
      "p1                            2075 non-null object\n",
      "p1_conf                       2075 non-null float64\n",
      "p1_dog                        2075 non-null object\n",
      "p2                            2075 non-null object\n",
      "p2_conf                       2075 non-null float64\n",
      "p2_dog                        2075 non-null object\n",
      "p3                            2075 non-null object\n",
      "p3_conf                       2075 non-null float64\n",
      "p3_dog                        2075 non-null object\n",
      "dtypes: float64(11), int64(3), object(18)\n",
      "memory usage: 589.1+ KB\n"
     ]
    }
   ],
   "source": [
    "df_Twitter.info()"
   ]
  },
  {
   "cell_type": "markdown",
   "metadata": {},
   "source": [
    "#2: doggo, floofer, pupper and puppo columns should be merged into one column named \"dog_stage\"\n",
    "\n",
    "#### Define\n",
    "- Extract data in columns 'doggo', 'floofer', 'pupper', 'puppo' into a new column called 'dog_stage' \n",
    "- Replace data value \"None\" in columns 'doggo', 'floofer', 'pupper', 'puppo' to empty string\n",
    "- Add all values in column 'doggo', 'floofer', 'pupper', 'puppo' together and add into column 'dog_stage'\n",
    "- Organize those data have two dag stages\n",
    "\n",
    "#### Code"
   ]
  },
  {
   "cell_type": "code",
   "execution_count": 25,
   "metadata": {},
   "outputs": [],
   "source": [
    "df_Twitter['dog_stage'] = df_Twitter['text'].str.extract('(doggo|floofer|pupper|puppo)', expand = True)\n"
   ]
  },
  {
   "cell_type": "code",
   "execution_count": 43,
   "metadata": {},
   "outputs": [],
   "source": [
    "# # df_Twitter.fillna({'doggo':''}, inplace=True)\n",
    "# # df_Twitter.fillna({'floofer':''}, inplace=True)\n",
    "# # df_Twitter.fillna({'pupper':''}, inplace=True)\n",
    "# # df_Twitter.fillna({'puppo':''}, inplace=True)"
   ]
  },
  {
   "cell_type": "code",
   "execution_count": 26,
   "metadata": {},
   "outputs": [],
   "source": [
    "df_Twitter['dog_stage'] = df_Twitter.doggo + df_Twitter.floofer + df_Twitter.pupper + df_Twitter.puppo\n"
   ]
  },
  {
   "cell_type": "markdown",
   "metadata": {},
   "source": [
    "#### Test"
   ]
  },
  {
   "cell_type": "code",
   "execution_count": 27,
   "metadata": {},
   "outputs": [
    {
     "data": {
      "text/plain": [
       "                1976\n",
       "pupper           245\n",
       "doggo             83\n",
       "puppo             29\n",
       "doggopupper       12\n",
       "floofer            9\n",
       "doggopuppo         1\n",
       "doggofloofer       1\n",
       "Name: dog_stage, dtype: int64"
      ]
     },
     "execution_count": 27,
     "metadata": {},
     "output_type": "execute_result"
    }
   ],
   "source": [
    "df_Twitter.dog_stage.value_counts()"
   ]
  },
  {
   "cell_type": "markdown",
   "metadata": {},
   "source": [
    "### Quality Issue\n",
    "#### `Twitter Archive Table`\n",
    "\n",
    "#1: There are retweet rating data in the dataset\n",
    "\n",
    "#### Define\n",
    "- Delete retweet data"
   ]
  },
  {
   "cell_type": "markdown",
   "metadata": {},
   "source": [
    "#### Code"
   ]
  },
  {
   "cell_type": "code",
   "execution_count": 28,
   "metadata": {},
   "outputs": [],
   "source": [
    "df_Twitter = df_Twitter[pd.isnull(df_Twitter['retweeted_status_id'])]\n"
   ]
  },
  {
   "cell_type": "markdown",
   "metadata": {},
   "source": [
    "#### Test"
   ]
  },
  {
   "cell_type": "code",
   "execution_count": 29,
   "metadata": {},
   "outputs": [
    {
     "name": "stdout",
     "output_type": "stream",
     "text": [
      "<class 'pandas.core.frame.DataFrame'>\n",
      "Int64Index: 2175 entries, 0 to 2355\n",
      "Data columns (total 33 columns):\n",
      "tweet_id                      2175 non-null int64\n",
      "in_reply_to_status_id         78 non-null float64\n",
      "in_reply_to_user_id           78 non-null float64\n",
      "timestamp                     2175 non-null object\n",
      "source                        2175 non-null object\n",
      "text                          2175 non-null object\n",
      "retweeted_status_id           0 non-null float64\n",
      "retweeted_status_user_id      0 non-null float64\n",
      "retweeted_status_timestamp    0 non-null object\n",
      "expanded_urls                 2117 non-null object\n",
      "rating_numerator              2175 non-null int64\n",
      "rating_denominator            2175 non-null int64\n",
      "name                          2175 non-null object\n",
      "doggo                         2175 non-null object\n",
      "floofer                       2175 non-null object\n",
      "pupper                        2175 non-null object\n",
      "puppo                         2175 non-null object\n",
      "tweet_id                      2173 non-null object\n",
      "retweet_count                 2173 non-null float64\n",
      "favorite_count                2173 non-null float64\n",
      "tweet_id                      1896 non-null float64\n",
      "jpg_url                       1896 non-null object\n",
      "img_num                       1896 non-null float64\n",
      "p1                            1896 non-null object\n",
      "p1_conf                       1896 non-null float64\n",
      "p1_dog                        1896 non-null object\n",
      "p2                            1896 non-null object\n",
      "p2_conf                       1896 non-null float64\n",
      "p2_dog                        1896 non-null object\n",
      "p3                            1896 non-null object\n",
      "p3_conf                       1896 non-null float64\n",
      "p3_dog                        1896 non-null object\n",
      "dog_stage                     2175 non-null object\n",
      "dtypes: float64(11), int64(3), object(19)\n",
      "memory usage: 577.7+ KB\n"
     ]
    }
   ],
   "source": [
    "df_Twitter.info()"
   ]
  },
  {
   "cell_type": "markdown",
   "metadata": {},
   "source": [
    "#2:  There are columns not essential for this analysis: in_reply_to_status_id, in_reply_to_user_id, retweeted_status_id, retweeted_status_user_id, retweeted_status_timestamp, 'doggo', 'floofer', 'pupper', 'puppo'. Also, duplicated columns, and null data rows.\n",
    "\n",
    "#### Define: \n",
    "- Drop columns: in_reply_to_status_id, in_reply_to_user_id, retweeted_status_id, retweeted_status_user_id, retweeted_status_timestamp,'doggo', 'floofer', 'pupper', 'puppo'\n",
    "- Drop duplicated columns\n",
    "- Drop null data rows"
   ]
  },
  {
   "cell_type": "markdown",
   "metadata": {},
   "source": [
    "#### Code"
   ]
  },
  {
   "cell_type": "code",
   "execution_count": 30,
   "metadata": {},
   "outputs": [],
   "source": [
    "df_Twitter = df_Twitter.drop(['in_reply_to_status_id', 'in_reply_to_user_id', 'retweeted_status_id', 'retweeted_status_user_id', 'retweeted_status_timestamp', 'expanded_urls','doggo', 'floofer', 'pupper', 'puppo'], axis=1)\n",
    "                                    "
   ]
  },
  {
   "cell_type": "code",
   "execution_count": 31,
   "metadata": {},
   "outputs": [],
   "source": [
    "df_Twitter = df_Twitter.loc[:,~df_Twitter.columns.duplicated()]"
   ]
  },
  {
   "cell_type": "code",
   "execution_count": 32,
   "metadata": {},
   "outputs": [],
   "source": [
    "df_Twitter.dropna(axis=0, inplace=True)"
   ]
  },
  {
   "cell_type": "markdown",
   "metadata": {},
   "source": [
    "#### Test"
   ]
  },
  {
   "cell_type": "code",
   "execution_count": 33,
   "metadata": {},
   "outputs": [
    {
     "name": "stdout",
     "output_type": "stream",
     "text": [
      "<class 'pandas.core.frame.DataFrame'>\n",
      "Int64Index: 1896 entries, 0 to 2074\n",
      "Data columns (total 21 columns):\n",
      "tweet_id              1896 non-null int64\n",
      "timestamp             1896 non-null object\n",
      "source                1896 non-null object\n",
      "text                  1896 non-null object\n",
      "rating_numerator      1896 non-null int64\n",
      "rating_denominator    1896 non-null int64\n",
      "name                  1896 non-null object\n",
      "retweet_count         1896 non-null float64\n",
      "favorite_count        1896 non-null float64\n",
      "jpg_url               1896 non-null object\n",
      "img_num               1896 non-null float64\n",
      "p1                    1896 non-null object\n",
      "p1_conf               1896 non-null float64\n",
      "p1_dog                1896 non-null object\n",
      "p2                    1896 non-null object\n",
      "p2_conf               1896 non-null float64\n",
      "p2_dog                1896 non-null object\n",
      "p3                    1896 non-null object\n",
      "p3_conf               1896 non-null float64\n",
      "p3_dog                1896 non-null object\n",
      "dog_stage             1896 non-null object\n",
      "dtypes: float64(6), int64(3), object(12)\n",
      "memory usage: 325.9+ KB\n"
     ]
    }
   ],
   "source": [
    "df_Twitter.info()"
   ]
  },
  {
   "cell_type": "markdown",
   "metadata": {},
   "source": [
    "#3: Incorrect datatypes: tweet_id, timestamp, rating_denominator, rating_numerator, source \n",
    "\n",
    "#### Define\n",
    "- Convert tweet_id from int to 'string' in archive_clean table\n",
    "- Convert timestamp from string to 'datetime' in archive_clean table\n",
    "- Convert rating_denominator and rating_numerator from int to 'float' in archive_clean table\n",
    "- Convert Source from string to 'catergory' in archive_clean table\n",
    "\n",
    "#### Code"
   ]
  },
  {
   "cell_type": "code",
   "execution_count": 34,
   "metadata": {
    "extensions": {
     "jupyter_dashboards": {
      "version": 1,
      "views": {
       "grid_default": {
        "hidden": true
       },
       "report_default": {
        "hidden": true
       }
      }
     }
    }
   },
   "outputs": [],
   "source": [
    "df_Twitter.tweet_id = df_Twitter.tweet_id.astype(str)\n",
    "df_Twitter.timestamp = pd.to_datetime(df_Twitter.timestamp)\n",
    "df_Twitter.source = df_Twitter.source.astype(\"category\")"
   ]
  },
  {
   "cell_type": "markdown",
   "metadata": {},
   "source": [
    "#### Test"
   ]
  },
  {
   "cell_type": "code",
   "execution_count": 35,
   "metadata": {},
   "outputs": [
    {
     "name": "stdout",
     "output_type": "stream",
     "text": [
      "<class 'pandas.core.frame.DataFrame'>\n",
      "Int64Index: 1896 entries, 0 to 2074\n",
      "Data columns (total 21 columns):\n",
      "tweet_id              1896 non-null object\n",
      "timestamp             1896 non-null datetime64[ns]\n",
      "source                1896 non-null category\n",
      "text                  1896 non-null object\n",
      "rating_numerator      1896 non-null int64\n",
      "rating_denominator    1896 non-null int64\n",
      "name                  1896 non-null object\n",
      "retweet_count         1896 non-null float64\n",
      "favorite_count        1896 non-null float64\n",
      "jpg_url               1896 non-null object\n",
      "img_num               1896 non-null float64\n",
      "p1                    1896 non-null object\n",
      "p1_conf               1896 non-null float64\n",
      "p1_dog                1896 non-null object\n",
      "p2                    1896 non-null object\n",
      "p2_conf               1896 non-null float64\n",
      "p2_dog                1896 non-null object\n",
      "p3                    1896 non-null object\n",
      "p3_conf               1896 non-null float64\n",
      "p3_dog                1896 non-null object\n",
      "dog_stage             1896 non-null object\n",
      "dtypes: category(1), datetime64[ns](1), float64(6), int64(2), object(11)\n",
      "memory usage: 313.1+ KB\n"
     ]
    }
   ],
   "source": [
    "df_Twitter.info()"
   ]
  },
  {
   "cell_type": "markdown",
   "metadata": {},
   "source": [
    "#4: Incorrect data value in name(ex.a,an is not a dog name)\n",
    "\n",
    "#### Define\n",
    "- Replace those incorrrect names to None\n",
    "\n",
    "#### Code"
   ]
  },
  {
   "cell_type": "code",
   "execution_count": 36,
   "metadata": {},
   "outputs": [],
   "source": [
    "df_Twitter.name = df_Twitter.name.replace('^[a-z]+^', 'None')\n",
    "df_Twitter.name = df_Twitter.name.replace('a', 'None')"
   ]
  },
  {
   "cell_type": "markdown",
   "metadata": {},
   "source": [
    "#### Test"
   ]
  },
  {
   "cell_type": "code",
   "execution_count": 37,
   "metadata": {},
   "outputs": [
    {
     "data": {
      "text/plain": [
       "None        614\n",
       "Lucy         11\n",
       "Charlie      11\n",
       "Cooper       10\n",
       "Oliver       10\n",
       "Lola          8\n",
       "Penny         8\n",
       "Sadie         8\n",
       "Tucker        8\n",
       "Toby          7\n",
       "Winston       7\n",
       "Bella         6\n",
       "Bailey        6\n",
       "Jax           6\n",
       "Stanley       6\n",
       "Bo            6\n",
       "Daisy         6\n",
       "Oscar         6\n",
       "Leo           5\n",
       "Bentley       5\n",
       "Milo          5\n",
       "Louis         5\n",
       "the           5\n",
       "Koda          5\n",
       "Buddy         5\n",
       "Archie        4\n",
       "Brody         4\n",
       "Reggie        4\n",
       "Cassie        4\n",
       "Finn          4\n",
       "           ... \n",
       "Gidget        1\n",
       "Donny         1\n",
       "Banjo         1\n",
       "Kody          1\n",
       "Eazy          1\n",
       "Staniel       1\n",
       "Pepper        1\n",
       "Bilbo         1\n",
       "Lenox         1\n",
       "Buddah        1\n",
       "Tove          1\n",
       "Blu           1\n",
       "Meatball      1\n",
       "Kellogg       1\n",
       "Bowie         1\n",
       "Maude         1\n",
       "Sprout        1\n",
       "such          1\n",
       "Leonidas      1\n",
       "Tater         1\n",
       "Fillup        1\n",
       "Hermione      1\n",
       "Dwight        1\n",
       "Obi           1\n",
       "Mauve         1\n",
       "Hurley        1\n",
       "my            1\n",
       "Ozzie         1\n",
       "Nugget        1\n",
       "Rumble        1\n",
       "Name: name, Length: 855, dtype: int64"
      ]
     },
     "execution_count": 37,
     "metadata": {},
     "output_type": "execute_result"
    }
   ],
   "source": [
    "df_Twitter['name'].value_counts()"
   ]
  },
  {
   "cell_type": "markdown",
   "metadata": {},
   "source": [
    "#5: Incorrect data value for numerators(missing decimals)\n",
    "\n",
    "#### Define\n",
    "- Extract ratings from text column to a new dataframe \"ratings\"\n",
    "- Add the \"ratings\" into \"archive_clean\" \n",
    "- Drop 'rating_numerator' and 'rating_denominator in archive_clean table\n",
    "\n",
    "#### Code"
   ]
  },
  {
   "cell_type": "code",
   "execution_count": 38,
   "metadata": {},
   "outputs": [
    {
     "data": {
      "text/html": [
       "<div>\n",
       "<style scoped>\n",
       "    .dataframe tbody tr th:only-of-type {\n",
       "        vertical-align: middle;\n",
       "    }\n",
       "\n",
       "    .dataframe tbody tr th {\n",
       "        vertical-align: top;\n",
       "    }\n",
       "\n",
       "    .dataframe thead th {\n",
       "        text-align: right;\n",
       "    }\n",
       "</style>\n",
       "<table border=\"1\" class=\"dataframe\">\n",
       "  <thead>\n",
       "    <tr style=\"text-align: right;\">\n",
       "      <th></th>\n",
       "      <th>rating_numerator_new</th>\n",
       "      <th>rating_denominator_new</th>\n",
       "    </tr>\n",
       "  </thead>\n",
       "  <tbody>\n",
       "    <tr>\n",
       "      <th>0</th>\n",
       "      <td>13</td>\n",
       "      <td>10</td>\n",
       "    </tr>\n",
       "    <tr>\n",
       "      <th>1</th>\n",
       "      <td>13</td>\n",
       "      <td>10</td>\n",
       "    </tr>\n",
       "    <tr>\n",
       "      <th>2</th>\n",
       "      <td>12</td>\n",
       "      <td>10</td>\n",
       "    </tr>\n",
       "    <tr>\n",
       "      <th>3</th>\n",
       "      <td>13</td>\n",
       "      <td>10</td>\n",
       "    </tr>\n",
       "    <tr>\n",
       "      <th>4</th>\n",
       "      <td>12</td>\n",
       "      <td>10</td>\n",
       "    </tr>\n",
       "  </tbody>\n",
       "</table>\n",
       "</div>"
      ],
      "text/plain": [
       "  rating_numerator_new rating_denominator_new\n",
       "0                   13                     10\n",
       "1                   13                     10\n",
       "2                   12                     10\n",
       "3                   13                     10\n",
       "4                   12                     10"
      ]
     },
     "execution_count": 38,
     "metadata": {},
     "output_type": "execute_result"
    }
   ],
   "source": [
    "ratings = df_Twitter.text.str.extract('((?:\\d+\\.)?\\d+)\\/(\\d+)', expand=True)\n",
    "ratings.columns = ['rating_numerator_new','rating_denominator_new']\n",
    "ratings.head()"
   ]
  },
  {
   "cell_type": "code",
   "execution_count": 39,
   "metadata": {},
   "outputs": [],
   "source": [
    "df_Twitter['rating_numerator_new'] = ratings['rating_numerator_new']\n",
    "df_Twitter['rating_denominator_new'] = ratings['rating_denominator_new']"
   ]
  },
  {
   "cell_type": "code",
   "execution_count": 40,
   "metadata": {},
   "outputs": [],
   "source": [
    "df_Twitter = df_Twitter.drop(['rating_numerator','rating_denominator'], axis=1)"
   ]
  },
  {
   "cell_type": "markdown",
   "metadata": {},
   "source": [
    "#### Test"
   ]
  },
  {
   "cell_type": "code",
   "execution_count": 41,
   "metadata": {},
   "outputs": [
    {
     "data": {
      "text/html": [
       "<div>\n",
       "<style scoped>\n",
       "    .dataframe tbody tr th:only-of-type {\n",
       "        vertical-align: middle;\n",
       "    }\n",
       "\n",
       "    .dataframe tbody tr th {\n",
       "        vertical-align: top;\n",
       "    }\n",
       "\n",
       "    .dataframe thead th {\n",
       "        text-align: right;\n",
       "    }\n",
       "</style>\n",
       "<table border=\"1\" class=\"dataframe\">\n",
       "  <thead>\n",
       "    <tr style=\"text-align: right;\">\n",
       "      <th></th>\n",
       "      <th>tweet_id</th>\n",
       "      <th>timestamp</th>\n",
       "      <th>source</th>\n",
       "      <th>text</th>\n",
       "      <th>name</th>\n",
       "      <th>retweet_count</th>\n",
       "      <th>favorite_count</th>\n",
       "      <th>jpg_url</th>\n",
       "      <th>img_num</th>\n",
       "      <th>p1</th>\n",
       "      <th>...</th>\n",
       "      <th>p1_dog</th>\n",
       "      <th>p2</th>\n",
       "      <th>p2_conf</th>\n",
       "      <th>p2_dog</th>\n",
       "      <th>p3</th>\n",
       "      <th>p3_conf</th>\n",
       "      <th>p3_dog</th>\n",
       "      <th>dog_stage</th>\n",
       "      <th>rating_numerator_new</th>\n",
       "      <th>rating_denominator_new</th>\n",
       "    </tr>\n",
       "  </thead>\n",
       "  <tbody>\n",
       "    <tr>\n",
       "      <th>990</th>\n",
       "      <td>748705597323898880</td>\n",
       "      <td>2016-07-01 02:31:39</td>\n",
       "      <td>&lt;a href=\"http://twitter.com\" rel=\"nofollow\"&gt;Tw...</td>\n",
       "      <td>#BarkWeek is getting rather heckin terrifying ...</td>\n",
       "      <td>None</td>\n",
       "      <td>1504.0</td>\n",
       "      <td>4659.0</td>\n",
       "      <td>https://pbs.twimg.com/media/CdNOb17WwAA5z4A.jpg</td>\n",
       "      <td>1.0</td>\n",
       "      <td>agama</td>\n",
       "      <td>...</td>\n",
       "      <td>False</td>\n",
       "      <td>Gila_monster</td>\n",
       "      <td>0.126978</td>\n",
       "      <td>False</td>\n",
       "      <td>lumbermill</td>\n",
       "      <td>0.050400</td>\n",
       "      <td>False</td>\n",
       "      <td></td>\n",
       "      <td>13</td>\n",
       "      <td>10</td>\n",
       "    </tr>\n",
       "    <tr>\n",
       "      <th>2058</th>\n",
       "      <td>671347597085433856</td>\n",
       "      <td>2015-11-30 15:18:34</td>\n",
       "      <td>&lt;a href=\"http://twitter.com/download/iphone\" r...</td>\n",
       "      <td>This is Lola. She was not fully prepared for t...</td>\n",
       "      <td>Lola</td>\n",
       "      <td>378.0</td>\n",
       "      <td>1193.0</td>\n",
       "      <td>https://pbs.twimg.com/media/DFYRgsOUQAARGhO.jpg</td>\n",
       "      <td>1.0</td>\n",
       "      <td>golden_retriever</td>\n",
       "      <td>...</td>\n",
       "      <td>True</td>\n",
       "      <td>Tibetan_mastiff</td>\n",
       "      <td>0.120184</td>\n",
       "      <td>True</td>\n",
       "      <td>Labrador_retriever</td>\n",
       "      <td>0.105506</td>\n",
       "      <td>True</td>\n",
       "      <td></td>\n",
       "      <td>9</td>\n",
       "      <td>10</td>\n",
       "    </tr>\n",
       "    <tr>\n",
       "      <th>102</th>\n",
       "      <td>872620804844003328</td>\n",
       "      <td>2017-06-08 01:06:27</td>\n",
       "      <td>&lt;a href=\"http://twitter.com/download/iphone\" r...</td>\n",
       "      <td>This is Monkey. She's supporting owners everyw...</td>\n",
       "      <td>Monkey</td>\n",
       "      <td>9429.0</td>\n",
       "      <td>41606.0</td>\n",
       "      <td>https://pbs.twimg.com/media/CUSBemVUEAAn-6V.jpg</td>\n",
       "      <td>1.0</td>\n",
       "      <td>flat-coated_retriever</td>\n",
       "      <td>...</td>\n",
       "      <td>True</td>\n",
       "      <td>Chesapeake_Bay_retriever</td>\n",
       "      <td>0.262239</td>\n",
       "      <td>True</td>\n",
       "      <td>curly-coated_retriever</td>\n",
       "      <td>0.048920</td>\n",
       "      <td>True</td>\n",
       "      <td></td>\n",
       "      <td>13</td>\n",
       "      <td>10</td>\n",
       "    </tr>\n",
       "    <tr>\n",
       "      <th>418</th>\n",
       "      <td>822462944365645825</td>\n",
       "      <td>2017-01-20 15:17:01</td>\n",
       "      <td>&lt;a href=\"http://twitter.com/download/iphone\" r...</td>\n",
       "      <td>This is Gabe. He was the unequivocal embodimen...</td>\n",
       "      <td>Gabe</td>\n",
       "      <td>11421.0</td>\n",
       "      <td>38832.0</td>\n",
       "      <td>https://pbs.twimg.com/media/CVqoPslWEAEk7EC.jpg</td>\n",
       "      <td>1.0</td>\n",
       "      <td>toy_poodle</td>\n",
       "      <td>...</td>\n",
       "      <td>True</td>\n",
       "      <td>miniature_poodle</td>\n",
       "      <td>0.151936</td>\n",
       "      <td>True</td>\n",
       "      <td>Maltese_dog</td>\n",
       "      <td>0.045531</td>\n",
       "      <td>True</td>\n",
       "      <td>pupper</td>\n",
       "      <td>14</td>\n",
       "      <td>10</td>\n",
       "    </tr>\n",
       "    <tr>\n",
       "      <th>1164</th>\n",
       "      <td>723179728551723008</td>\n",
       "      <td>2016-04-21 16:00:57</td>\n",
       "      <td>&lt;a href=\"http://twitter.com/download/iphone\" r...</td>\n",
       "      <td>This is Jangle. She's addicted to broccoli. It...</td>\n",
       "      <td>Jangle</td>\n",
       "      <td>1831.0</td>\n",
       "      <td>5393.0</td>\n",
       "      <td>https://pbs.twimg.com/media/CjQnclkVEAA4pnK.jpg</td>\n",
       "      <td>1.0</td>\n",
       "      <td>Staffordshire_bullterrier</td>\n",
       "      <td>...</td>\n",
       "      <td>True</td>\n",
       "      <td>French_bulldog</td>\n",
       "      <td>0.351104</td>\n",
       "      <td>True</td>\n",
       "      <td>doormat</td>\n",
       "      <td>0.028075</td>\n",
       "      <td>False</td>\n",
       "      <td></td>\n",
       "      <td>8</td>\n",
       "      <td>10</td>\n",
       "    </tr>\n",
       "  </tbody>\n",
       "</table>\n",
       "<p>5 rows × 21 columns</p>\n",
       "</div>"
      ],
      "text/plain": [
       "                tweet_id           timestamp  \\\n",
       "990   748705597323898880 2016-07-01 02:31:39   \n",
       "2058  671347597085433856 2015-11-30 15:18:34   \n",
       "102   872620804844003328 2017-06-08 01:06:27   \n",
       "418   822462944365645825 2017-01-20 15:17:01   \n",
       "1164  723179728551723008 2016-04-21 16:00:57   \n",
       "\n",
       "                                                 source  \\\n",
       "990   <a href=\"http://twitter.com\" rel=\"nofollow\">Tw...   \n",
       "2058  <a href=\"http://twitter.com/download/iphone\" r...   \n",
       "102   <a href=\"http://twitter.com/download/iphone\" r...   \n",
       "418   <a href=\"http://twitter.com/download/iphone\" r...   \n",
       "1164  <a href=\"http://twitter.com/download/iphone\" r...   \n",
       "\n",
       "                                                   text    name  \\\n",
       "990   #BarkWeek is getting rather heckin terrifying ...    None   \n",
       "2058  This is Lola. She was not fully prepared for t...    Lola   \n",
       "102   This is Monkey. She's supporting owners everyw...  Monkey   \n",
       "418   This is Gabe. He was the unequivocal embodimen...    Gabe   \n",
       "1164  This is Jangle. She's addicted to broccoli. It...  Jangle   \n",
       "\n",
       "      retweet_count  favorite_count  \\\n",
       "990          1504.0          4659.0   \n",
       "2058          378.0          1193.0   \n",
       "102          9429.0         41606.0   \n",
       "418         11421.0         38832.0   \n",
       "1164         1831.0          5393.0   \n",
       "\n",
       "                                              jpg_url  img_num  \\\n",
       "990   https://pbs.twimg.com/media/CdNOb17WwAA5z4A.jpg      1.0   \n",
       "2058  https://pbs.twimg.com/media/DFYRgsOUQAARGhO.jpg      1.0   \n",
       "102   https://pbs.twimg.com/media/CUSBemVUEAAn-6V.jpg      1.0   \n",
       "418   https://pbs.twimg.com/media/CVqoPslWEAEk7EC.jpg      1.0   \n",
       "1164  https://pbs.twimg.com/media/CjQnclkVEAA4pnK.jpg      1.0   \n",
       "\n",
       "                             p1          ...            p1_dog  \\\n",
       "990                       agama          ...             False   \n",
       "2058           golden_retriever          ...              True   \n",
       "102       flat-coated_retriever          ...              True   \n",
       "418                  toy_poodle          ...              True   \n",
       "1164  Staffordshire_bullterrier          ...              True   \n",
       "\n",
       "                            p2   p2_conf  p2_dog                      p3  \\\n",
       "990               Gila_monster  0.126978   False              lumbermill   \n",
       "2058           Tibetan_mastiff  0.120184    True      Labrador_retriever   \n",
       "102   Chesapeake_Bay_retriever  0.262239    True  curly-coated_retriever   \n",
       "418           miniature_poodle  0.151936    True             Maltese_dog   \n",
       "1164            French_bulldog  0.351104    True                 doormat   \n",
       "\n",
       "       p3_conf  p3_dog dog_stage rating_numerator_new rating_denominator_new  \n",
       "990   0.050400   False                             13                     10  \n",
       "2058  0.105506    True                              9                     10  \n",
       "102   0.048920    True                             13                     10  \n",
       "418   0.045531    True    pupper                   14                     10  \n",
       "1164  0.028075   False                              8                     10  \n",
       "\n",
       "[5 rows x 21 columns]"
      ]
     },
     "execution_count": 41,
     "metadata": {},
     "output_type": "execute_result"
    }
   ],
   "source": [
    "df_Twitter.sample(5)"
   ]
  },
  {
   "cell_type": "markdown",
   "metadata": {},
   "source": [
    "#6: Source column is in HTML-formatted string, not a normal string\n",
    "\n",
    "#### Define\n",
    "- Extract 'Twitter for iPhone', 'Vine - Make a Scene', 'Twitter Web Client', and 'TweetDeck' from source column\n",
    "\n",
    "#### Code"
   ]
  },
  {
   "cell_type": "code",
   "execution_count": 42,
   "metadata": {},
   "outputs": [
    {
     "data": {
      "text/plain": [
       "<a href=\"http://twitter.com/download/iphone\" rel=\"nofollow\">Twitter for iPhone</a>     1783\n",
       "<a href=\"http://vine.co\" rel=\"nofollow\">Vine - Make a Scene</a>                          90\n",
       "<a href=\"http://twitter.com\" rel=\"nofollow\">Twitter Web Client</a>                       12\n",
       "<a href=\"https://about.twitter.com/products/tweetdeck\" rel=\"nofollow\">TweetDeck</a>      11\n",
       "Name: source, dtype: int64"
      ]
     },
     "execution_count": 42,
     "metadata": {},
     "output_type": "execute_result"
    }
   ],
   "source": [
    "df_Twitter.source.value_counts()"
   ]
  },
  {
   "cell_type": "code",
   "execution_count": 43,
   "metadata": {},
   "outputs": [],
   "source": [
    "# def remove_url(link):\n",
    "#     result = re.sub('<.*?>','',link)\n",
    "#     return result\n",
    "\n",
    "# archive_clean['source']=archive_clean['source'].apply(lambda x : remove_url(x))\n"
   ]
  },
  {
   "cell_type": "code",
   "execution_count": 44,
   "metadata": {},
   "outputs": [],
   "source": [
    "df_Twitter.source = df_Twitter.source.str.extract('>([\\w\\W\\s]*)<', expand=True)"
   ]
  },
  {
   "cell_type": "markdown",
   "metadata": {},
   "source": [
    "#### Test"
   ]
  },
  {
   "cell_type": "code",
   "execution_count": 45,
   "metadata": {},
   "outputs": [
    {
     "data": {
      "text/plain": [
       "Twitter for iPhone     1783\n",
       "Vine - Make a Scene      90\n",
       "Twitter Web Client       12\n",
       "TweetDeck                11\n",
       "Name: source, dtype: int64"
      ]
     },
     "execution_count": 45,
     "metadata": {},
     "output_type": "execute_result"
    }
   ],
   "source": [
    "df_Twitter.source.value_counts()"
   ]
  },
  {
   "cell_type": "markdown",
   "metadata": {},
   "source": [
    "#7: Text column includes texts and a link\n",
    "\n",
    "#### Define\n",
    "- Replace the url in tect column to an empty string\n",
    "\n",
    "#### Code"
   ]
  },
  {
   "cell_type": "code",
   "execution_count": 46,
   "metadata": {},
   "outputs": [
    {
     "data": {
      "text/plain": [
       "\"This is Phineas. He's a mystical boy. Only ever appears in the hole of a donut. 13/10 https://t.co/MgUWQ76dJU\""
      ]
     },
     "execution_count": 46,
     "metadata": {},
     "output_type": "execute_result"
    }
   ],
   "source": [
    "df_Twitter.text[0]"
   ]
  },
  {
   "cell_type": "code",
   "execution_count": 47,
   "metadata": {},
   "outputs": [],
   "source": [
    "df_Twitter.text = df_Twitter.text.str.replace('(\\w+\\S\\/\\/\\w[\\.*\\D\\d\\/*]+)', \"\",regex=True)\n"
   ]
  },
  {
   "cell_type": "markdown",
   "metadata": {},
   "source": [
    "#### Test"
   ]
  },
  {
   "cell_type": "code",
   "execution_count": 48,
   "metadata": {},
   "outputs": [
    {
     "data": {
      "text/plain": [
       "\"This is Phineas. He's a mystical boy. Only ever appears in the hole of a donut. 13/10 \""
      ]
     },
     "execution_count": 48,
     "metadata": {},
     "output_type": "execute_result"
    }
   ],
   "source": [
    "df_Twitter['text'][0]"
   ]
  },
  {
   "cell_type": "markdown",
   "metadata": {},
   "source": [
    "#8: There are missing data and incorrect data values in dog_stage\n",
    "\n",
    "#### Define\n",
    "- Replace empty data in 'dog_stage' to NAN\n",
    "- change 'doggopupper' to'doggo, pupper', 'doggopuppo' to 'doggo, puppo', and 'doggofloofer' to 'doggo, floofer'\n",
    "\n",
    "#### Code"
   ]
  },
  {
   "cell_type": "code",
   "execution_count": 49,
   "metadata": {},
   "outputs": [],
   "source": [
    "df_Twitter.loc[df_Twitter.dog_stage == '', 'dog_stage'] = np.nan"
   ]
  },
  {
   "cell_type": "code",
   "execution_count": 50,
   "metadata": {},
   "outputs": [],
   "source": [
    "df_Twitter.loc[df_Twitter.dog_stage == 'doggopupper', 'dog_stage' ] = 'doggo, pupper'\n",
    "df_Twitter.loc[df_Twitter.dog_stage == 'doggopuppo', 'dog_stage' ] = 'doggo, puppo'\n",
    "df_Twitter.loc[df_Twitter.dog_stage == 'doggofloofer', 'dog_stage' ] = 'doggo, floofer'"
   ]
  },
  {
   "cell_type": "markdown",
   "metadata": {},
   "source": [
    "#### Test"
   ]
  },
  {
   "cell_type": "code",
   "execution_count": 51,
   "metadata": {
    "scrolled": true
   },
   "outputs": [
    {
     "data": {
      "text/plain": [
       "pupper            224\n",
       "doggo              75\n",
       "puppo              24\n",
       "doggo, pupper      10\n",
       "floofer             9\n",
       "doggo, floofer      1\n",
       "doggo, puppo        1\n",
       "Name: dog_stage, dtype: int64"
      ]
     },
     "execution_count": 51,
     "metadata": {},
     "output_type": "execute_result"
    }
   ],
   "source": [
    "df_Twitter.dog_stage.value_counts()"
   ]
  },
  {
   "cell_type": "code",
   "execution_count": 52,
   "metadata": {},
   "outputs": [
    {
     "data": {
      "text/html": [
       "<div>\n",
       "<style scoped>\n",
       "    .dataframe tbody tr th:only-of-type {\n",
       "        vertical-align: middle;\n",
       "    }\n",
       "\n",
       "    .dataframe tbody tr th {\n",
       "        vertical-align: top;\n",
       "    }\n",
       "\n",
       "    .dataframe thead th {\n",
       "        text-align: right;\n",
       "    }\n",
       "</style>\n",
       "<table border=\"1\" class=\"dataframe\">\n",
       "  <thead>\n",
       "    <tr style=\"text-align: right;\">\n",
       "      <th></th>\n",
       "      <th>tweet_id</th>\n",
       "      <th>timestamp</th>\n",
       "      <th>source</th>\n",
       "      <th>text</th>\n",
       "      <th>name</th>\n",
       "      <th>retweet_count</th>\n",
       "      <th>favorite_count</th>\n",
       "      <th>jpg_url</th>\n",
       "      <th>img_num</th>\n",
       "      <th>p1</th>\n",
       "      <th>...</th>\n",
       "      <th>p1_dog</th>\n",
       "      <th>p2</th>\n",
       "      <th>p2_conf</th>\n",
       "      <th>p2_dog</th>\n",
       "      <th>p3</th>\n",
       "      <th>p3_conf</th>\n",
       "      <th>p3_dog</th>\n",
       "      <th>dog_stage</th>\n",
       "      <th>rating_numerator_new</th>\n",
       "      <th>rating_denominator_new</th>\n",
       "    </tr>\n",
       "  </thead>\n",
       "  <tbody>\n",
       "    <tr>\n",
       "      <th>0</th>\n",
       "      <td>892420643555336193</td>\n",
       "      <td>2017-08-01 16:23:56</td>\n",
       "      <td>Twitter for iPhone</td>\n",
       "      <td>This is Phineas. He's a mystical boy. Only eve...</td>\n",
       "      <td>Phineas</td>\n",
       "      <td>8853.0</td>\n",
       "      <td>39467.0</td>\n",
       "      <td>https://pbs.twimg.com/media/CT4udn0WwAA0aMy.jpg</td>\n",
       "      <td>1.0</td>\n",
       "      <td>Welsh_springer_spaniel</td>\n",
       "      <td>...</td>\n",
       "      <td>True</td>\n",
       "      <td>collie</td>\n",
       "      <td>0.156665</td>\n",
       "      <td>True</td>\n",
       "      <td>Shetland_sheepdog</td>\n",
       "      <td>0.061428</td>\n",
       "      <td>True</td>\n",
       "      <td>NaN</td>\n",
       "      <td>13</td>\n",
       "      <td>10</td>\n",
       "    </tr>\n",
       "    <tr>\n",
       "      <th>1</th>\n",
       "      <td>892177421306343426</td>\n",
       "      <td>2017-08-01 00:17:27</td>\n",
       "      <td>Twitter for iPhone</td>\n",
       "      <td>This is Tilly. She's just checking pup on you....</td>\n",
       "      <td>Tilly</td>\n",
       "      <td>6514.0</td>\n",
       "      <td>33819.0</td>\n",
       "      <td>https://pbs.twimg.com/media/CT42GRgUYAA5iDo.jpg</td>\n",
       "      <td>1.0</td>\n",
       "      <td>redbone</td>\n",
       "      <td>...</td>\n",
       "      <td>True</td>\n",
       "      <td>miniature_pinscher</td>\n",
       "      <td>0.074192</td>\n",
       "      <td>True</td>\n",
       "      <td>Rhodesian_ridgeback</td>\n",
       "      <td>0.072010</td>\n",
       "      <td>True</td>\n",
       "      <td>NaN</td>\n",
       "      <td>13</td>\n",
       "      <td>10</td>\n",
       "    </tr>\n",
       "    <tr>\n",
       "      <th>2</th>\n",
       "      <td>891815181378084864</td>\n",
       "      <td>2017-07-31 00:18:03</td>\n",
       "      <td>Twitter for iPhone</td>\n",
       "      <td>This is Archie. He is a rare Norwegian Pouncin...</td>\n",
       "      <td>Archie</td>\n",
       "      <td>4328.0</td>\n",
       "      <td>25461.0</td>\n",
       "      <td>https://pbs.twimg.com/media/CT4521TWwAEvMyu.jpg</td>\n",
       "      <td>1.0</td>\n",
       "      <td>German_shepherd</td>\n",
       "      <td>...</td>\n",
       "      <td>True</td>\n",
       "      <td>malinois</td>\n",
       "      <td>0.138584</td>\n",
       "      <td>True</td>\n",
       "      <td>bloodhound</td>\n",
       "      <td>0.116197</td>\n",
       "      <td>True</td>\n",
       "      <td>NaN</td>\n",
       "      <td>12</td>\n",
       "      <td>10</td>\n",
       "    </tr>\n",
       "    <tr>\n",
       "      <th>3</th>\n",
       "      <td>891689557279858688</td>\n",
       "      <td>2017-07-30 15:58:51</td>\n",
       "      <td>Twitter for iPhone</td>\n",
       "      <td>This is Darla. She commenced a snooze mid meal...</td>\n",
       "      <td>Darla</td>\n",
       "      <td>8964.0</td>\n",
       "      <td>42908.0</td>\n",
       "      <td>https://pbs.twimg.com/media/CT5Dr8HUEAA-lEu.jpg</td>\n",
       "      <td>1.0</td>\n",
       "      <td>Rhodesian_ridgeback</td>\n",
       "      <td>...</td>\n",
       "      <td>True</td>\n",
       "      <td>redbone</td>\n",
       "      <td>0.360687</td>\n",
       "      <td>True</td>\n",
       "      <td>miniature_pinscher</td>\n",
       "      <td>0.222752</td>\n",
       "      <td>True</td>\n",
       "      <td>NaN</td>\n",
       "      <td>13</td>\n",
       "      <td>10</td>\n",
       "    </tr>\n",
       "    <tr>\n",
       "      <th>4</th>\n",
       "      <td>891327558926688256</td>\n",
       "      <td>2017-07-29 16:00:24</td>\n",
       "      <td>Twitter for iPhone</td>\n",
       "      <td>This is Franklin. He would like you to stop ca...</td>\n",
       "      <td>Franklin</td>\n",
       "      <td>9774.0</td>\n",
       "      <td>41048.0</td>\n",
       "      <td>https://pbs.twimg.com/media/CT5IQmsXIAAKY4A.jpg</td>\n",
       "      <td>1.0</td>\n",
       "      <td>miniature_pinscher</td>\n",
       "      <td>...</td>\n",
       "      <td>True</td>\n",
       "      <td>Rottweiler</td>\n",
       "      <td>0.243682</td>\n",
       "      <td>True</td>\n",
       "      <td>Doberman</td>\n",
       "      <td>0.154629</td>\n",
       "      <td>True</td>\n",
       "      <td>NaN</td>\n",
       "      <td>12</td>\n",
       "      <td>10</td>\n",
       "    </tr>\n",
       "  </tbody>\n",
       "</table>\n",
       "<p>5 rows × 21 columns</p>\n",
       "</div>"
      ],
      "text/plain": [
       "             tweet_id           timestamp              source  \\\n",
       "0  892420643555336193 2017-08-01 16:23:56  Twitter for iPhone   \n",
       "1  892177421306343426 2017-08-01 00:17:27  Twitter for iPhone   \n",
       "2  891815181378084864 2017-07-31 00:18:03  Twitter for iPhone   \n",
       "3  891689557279858688 2017-07-30 15:58:51  Twitter for iPhone   \n",
       "4  891327558926688256 2017-07-29 16:00:24  Twitter for iPhone   \n",
       "\n",
       "                                                text      name  retweet_count  \\\n",
       "0  This is Phineas. He's a mystical boy. Only eve...   Phineas         8853.0   \n",
       "1  This is Tilly. She's just checking pup on you....     Tilly         6514.0   \n",
       "2  This is Archie. He is a rare Norwegian Pouncin...    Archie         4328.0   \n",
       "3  This is Darla. She commenced a snooze mid meal...     Darla         8964.0   \n",
       "4  This is Franklin. He would like you to stop ca...  Franklin         9774.0   \n",
       "\n",
       "   favorite_count                                          jpg_url  img_num  \\\n",
       "0         39467.0  https://pbs.twimg.com/media/CT4udn0WwAA0aMy.jpg      1.0   \n",
       "1         33819.0  https://pbs.twimg.com/media/CT42GRgUYAA5iDo.jpg      1.0   \n",
       "2         25461.0  https://pbs.twimg.com/media/CT4521TWwAEvMyu.jpg      1.0   \n",
       "3         42908.0  https://pbs.twimg.com/media/CT5Dr8HUEAA-lEu.jpg      1.0   \n",
       "4         41048.0  https://pbs.twimg.com/media/CT5IQmsXIAAKY4A.jpg      1.0   \n",
       "\n",
       "                       p1          ...            p1_dog                  p2  \\\n",
       "0  Welsh_springer_spaniel          ...              True              collie   \n",
       "1                 redbone          ...              True  miniature_pinscher   \n",
       "2         German_shepherd          ...              True            malinois   \n",
       "3     Rhodesian_ridgeback          ...              True             redbone   \n",
       "4      miniature_pinscher          ...              True          Rottweiler   \n",
       "\n",
       "    p2_conf  p2_dog                   p3   p3_conf  p3_dog dog_stage  \\\n",
       "0  0.156665    True    Shetland_sheepdog  0.061428    True       NaN   \n",
       "1  0.074192    True  Rhodesian_ridgeback  0.072010    True       NaN   \n",
       "2  0.138584    True           bloodhound  0.116197    True       NaN   \n",
       "3  0.360687    True   miniature_pinscher  0.222752    True       NaN   \n",
       "4  0.243682    True             Doberman  0.154629    True       NaN   \n",
       "\n",
       "  rating_numerator_new rating_denominator_new  \n",
       "0                   13                     10  \n",
       "1                   13                     10  \n",
       "2                   12                     10  \n",
       "3                   13                     10  \n",
       "4                   12                     10  \n",
       "\n",
       "[5 rows x 21 columns]"
      ]
     },
     "execution_count": 52,
     "metadata": {},
     "output_type": "execute_result"
    }
   ],
   "source": [
    "df_Twitter.head()"
   ]
  },
  {
   "cell_type": "markdown",
   "metadata": {},
   "source": [
    "## Storing Data\n",
    "Save gathered, assessed, and cleaned master dataset to a CSV file named \"twitter_archive_master.csv\"."
   ]
  },
  {
   "cell_type": "code",
   "execution_count": 53,
   "metadata": {},
   "outputs": [],
   "source": [
    "df_Twitter.to_csv('twitter_archive_master.csv', index=False)"
   ]
  },
  {
   "cell_type": "markdown",
   "metadata": {},
   "source": [
    "## Analyzing and Visualizing Data\n",
    "In this section, analyze and visualize your wrangled data. You must produce at least **three (3) insights and one (1) visualization.**"
   ]
  },
  {
   "cell_type": "code",
   "execution_count": 54,
   "metadata": {},
   "outputs": [],
   "source": [
    "twitter_archive_master = pd.read_csv('twitter_archive_master.csv')"
   ]
  },
  {
   "cell_type": "code",
   "execution_count": 55,
   "metadata": {},
   "outputs": [
    {
     "name": "stdout",
     "output_type": "stream",
     "text": [
      "<class 'pandas.core.frame.DataFrame'>\n",
      "RangeIndex: 1896 entries, 0 to 1895\n",
      "Data columns (total 21 columns):\n",
      "tweet_id                  1896 non-null int64\n",
      "timestamp                 1896 non-null object\n",
      "source                    1896 non-null object\n",
      "text                      1896 non-null object\n",
      "name                      1896 non-null object\n",
      "retweet_count             1896 non-null float64\n",
      "favorite_count            1896 non-null float64\n",
      "jpg_url                   1896 non-null object\n",
      "img_num                   1896 non-null float64\n",
      "p1                        1896 non-null object\n",
      "p1_conf                   1896 non-null float64\n",
      "p1_dog                    1896 non-null bool\n",
      "p2                        1896 non-null object\n",
      "p2_conf                   1896 non-null float64\n",
      "p2_dog                    1896 non-null bool\n",
      "p3                        1896 non-null object\n",
      "p3_conf                   1896 non-null float64\n",
      "p3_dog                    1896 non-null bool\n",
      "dog_stage                 344 non-null object\n",
      "rating_numerator_new      1896 non-null float64\n",
      "rating_denominator_new    1896 non-null int64\n",
      "dtypes: bool(3), float64(7), int64(2), object(9)\n",
      "memory usage: 272.3+ KB\n"
     ]
    }
   ],
   "source": [
    "twitter_archive_master.info()"
   ]
  },
  {
   "cell_type": "code",
   "execution_count": 56,
   "metadata": {},
   "outputs": [],
   "source": [
    "twitter_archive_master.tweet_id = twitter_archive_master.tweet_id.astype(str)\n",
    "twitter_archive_master.dog_stage = twitter_archive_master.dog_stage.astype('category')\n",
    "twitter_archive_master[['rating_numerator_new', 'rating_numerator_new']] = twitter_archive_master[['rating_numerator_new', 'rating_numerator_new']].astype(float)\n",
    "twitter_archive_master.source = twitter_archive_master.source.astype('category')\n",
    "twitter_archive_master.timestamp = pd.to_datetime(twitter_archive_master.timestamp)\n"
   ]
  },
  {
   "cell_type": "code",
   "execution_count": 57,
   "metadata": {},
   "outputs": [
    {
     "name": "stdout",
     "output_type": "stream",
     "text": [
      "<class 'pandas.core.frame.DataFrame'>\n",
      "RangeIndex: 1896 entries, 0 to 1895\n",
      "Data columns (total 21 columns):\n",
      "tweet_id                  1896 non-null object\n",
      "timestamp                 1896 non-null datetime64[ns]\n",
      "source                    1896 non-null category\n",
      "text                      1896 non-null object\n",
      "name                      1896 non-null object\n",
      "retweet_count             1896 non-null float64\n",
      "favorite_count            1896 non-null float64\n",
      "jpg_url                   1896 non-null object\n",
      "img_num                   1896 non-null float64\n",
      "p1                        1896 non-null object\n",
      "p1_conf                   1896 non-null float64\n",
      "p1_dog                    1896 non-null bool\n",
      "p2                        1896 non-null object\n",
      "p2_conf                   1896 non-null float64\n",
      "p2_dog                    1896 non-null bool\n",
      "p3                        1896 non-null object\n",
      "p3_conf                   1896 non-null float64\n",
      "p3_dog                    1896 non-null bool\n",
      "dog_stage                 344 non-null category\n",
      "rating_numerator_new      1896 non-null float64\n",
      "rating_denominator_new    1896 non-null int64\n",
      "dtypes: bool(3), category(2), datetime64[ns](1), float64(7), int64(1), object(7)\n",
      "memory usage: 246.9+ KB\n"
     ]
    }
   ],
   "source": [
    "twitter_archive_master.info()"
   ]
  },
  {
   "cell_type": "markdown",
   "metadata": {},
   "source": [
    "### Insights and Visualization:\n",
    "1. Mostly used Twitter source"
   ]
  },
  {
   "cell_type": "code",
   "execution_count": 58,
   "metadata": {},
   "outputs": [
    {
     "data": {
      "image/png": "[encoded data removed]",
      "text/plain": [
       "<matplotlib.figure.Figure at 0x7f7ef91f09b0>"
      ]
     },
     "metadata": {
      "needs_background": "light"
     },
     "output_type": "display_data"
    }
   ],
   "source": [
    "source = twitter_archive_master.source.value_counts()\n",
    "source_plot = source.plot.bar()\n",
    "plt.title('Twitter Source')\n",
    "plt.xlabel('Source')\n",
    "plt.ylabel('Numbers of Tweets');\n"
   ]
  },
  {
   "cell_type": "markdown",
   "metadata": {},
   "source": [
    "2. Most popular dog name"
   ]
  },
  {
   "cell_type": "code",
   "execution_count": 59,
   "metadata": {},
   "outputs": [
    {
     "data": {
      "image/png": "[encoded data removed]",
      "text/plain": [
       "<matplotlib.figure.Figure at 0x7f7ef91a4470>"
      ]
     },
     "metadata": {
      "needs_background": "light"
     },
     "output_type": "display_data"
    }
   ],
   "source": [
    "name = twitter_archive_master.name.value_counts()[1:10]\n",
    "name_plot = name.plot.bar(color='grey')\n",
    "plt.title('Popular Dog Names')\n",
    "plt.xlabel('Name')\n",
    "plt.ylabel('Numbers');\n"
   ]
  },
  {
   "cell_type": "markdown",
   "metadata": {},
   "source": [
    "3. Correlation between Favorite and Retweet"
   ]
  },
  {
   "cell_type": "code",
   "execution_count": 60,
   "metadata": {},
   "outputs": [
    {
     "data": {
      "image/png": "[encoded data removed]",
      "text/plain": [
       "<matplotlib.figure.Figure at 0x7f7ef70bf0b8>"
      ]
     },
     "metadata": {
      "needs_background": "light"
     },
     "output_type": "display_data"
    }
   ],
   "source": [
    "twitter_archive_master.plot(x='favorite_count', y='retweet_count', kind='scatter', title='Correlation between Favorite and Retweet Times');\n",
    "plt.xlabel('Favorite Count')\n",
    "plt.ylabel('Retweet Count');"
   ]
  }
 ],
 "metadata": {
  "extensions": {
   "jupyter_dashboards": {
    "activeView": "report_default",
    "version": 1,
    "views": {
     "grid_default": {
      "cellMargin": 10,
      "defaultCellHeight": 20,
      "maxColumns": 12,
      "name": "grid",
      "type": "grid"
     },
     "report_default": {
      "name": "report",
      "type": "report"
     }
    }
   }
  },
  "kernelspec": {
   "display_name": "Python 3",
   "language": "python",
   "name": "python3"
  },
  "language_info": {
   "codemirror_mode": {
    "name": "ipython",
    "version": 3
   },
   "file_extension": ".py",
   "mimetype": "text/x-python",
   "name": "python",
   "nbconvert_exporter": "python",
   "pygments_lexer": "ipython3",
   "version": "3.6.3"
  }
 },
 "nbformat": 4,
 "nbformat_minor": 2
}
