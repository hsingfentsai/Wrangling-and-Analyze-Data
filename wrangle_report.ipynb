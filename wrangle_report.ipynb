{
 "cells": [
  {
   "cell_type": "markdown",
   "metadata": {},
   "source": [
    "## Reporting: wragle_report\n",
    "* Create a **300-600 word written report** called \"wrangle_report.pdf\" or \"wrangle_report.html\" that briefly describes your wrangling efforts. This is to be framed as an internal document."
   ]
  },
  {
   "cell_type": "markdown",
   "metadata": {},
   "source": [
    "# Wrangle Report\n",
    "The dataset in this project is the tweet archive of Twitter user @dog_rates, also known as WeRateDogs. \n",
    "WeRateDogs is a Twitter account that rates people's dogs with a humorous comment about the dog.\n",
    "\n",
    "The WeRateDogs Project steps includes:\n",
    "- Gathering data\n",
    "- Accessing data\n",
    "- Cleaning data\n",
    "- Storing data\n",
    "- Analyzing, and visualizing data\n",
    "- Reporting on wrangling efforts, data analyses and visualizations\n",
    "\n"
   ]
  },
  {
   "cell_type": "markdown",
   "metadata": {},
   "source": [
    "## Gathering Data\n",
    "\n",
    "The resources are as follow:\n",
    "1. The WeRateDogs Twitter archive: Provided by Udacity, contains basic tweet data (tweet ID, timestamp, text, etc.) for all 5000+ of their tweets as they stood on August 1, 2017. Of the 5000+ tweets, I have filtered for tweets with ratings only (there are 2356).\n",
    "2. The tweet image predictions: Provided by Udacity, is present in each tweet according to a neural network.\n",
    "3. Twitter API and Tweepy Library: Gather each tweet's retweet count and favorite (\"like\") count at the minimum and any additional data. "
   ]
  },
  {
   "cell_type": "markdown",
   "metadata": {},
   "source": [
    "## Accessing Data\n",
    "\n",
    "Access data in two aspects: Tidiness Issue and Quality Issue.\n",
    "\n",
    "### Tidiness Issue\n",
    "##### `Twitter Archive Table`\n",
    "1. doggo, floofer, pupper and puppo columns should be merged into one column named \"dog_stage\"\n",
    "\n",
    "##### `Image Prediction Table`\n",
    "1. Image predictions table should be added to Twitter Archive Table\n",
    "\n",
    "##### `Twitter Data Table`\n",
    "1.  Twitter Data Table columns(retweet_count, favorite_count, followers_count) should be added to Twitter Archive Table.\n",
    "\n",
    "### Quality issues\n",
    "##### `Twitter Archive Table`\n",
    "1. There are retweet rating data in the dataset\n",
    "\n",
    "2. There are columns not essential for this analysis: in_reply_to_status_id, in_reply_to_user_id, retweeted_status_id, retweeted_status_user_id, retweeted_status_timestamp\n",
    "                                       \n",
    "3. Incorrect datatypes: tweet_id, timestamp, rating_denominator, rating_numerator, source \n",
    "\n",
    "4. Incorrect data value in name(ex.a,an is not a dog name)\n",
    "\n",
    "5. Incorrect data value for column numerators(missing decimals)\n",
    "\n",
    "6. Source column is in HTML-formatted string, not a normal string\n",
    "\n",
    "7. Text column includes texts and a link\n",
    "\n",
    "8. Some data has more than one dog_stage and missing data in dog_stage\n",
    "\n",
    "##### `Image Prediction Table`\n",
    "1. Incorrect datatype for tweet_id\n",
    "2. Missing images(only 2075 images out of 2356)\n",
    "\n",
    "\n",
    "##### `Twitter Data Table`\n",
    "1. Incorrect datatype for tweet_id\n",
    "2. Missing tweets data(only 2354 out of 2356)"
   ]
  },
  {
   "cell_type": "markdown",
   "metadata": {},
   "source": [
    "## Cleaning Data\n",
    "\n",
    "There are 3 steps to clean the dataset: Define, Code, Test.\n",
    "- Merge 3 tables(the copy version so that we can keep the original dataset)\n",
    "- Create a new column called \"dog_stage\" and store the data \"doggo\", \"puppo\", and \"floofer\" to it.\n",
    "- Delete retweets and nonessential columns: in_reply_to_status_id, in_reply_to_user_id, retweeted_status_id, retweeted_status_user_id, retweeted_status_timestamp\n",
    "- Change incorrect datatypes: tweet_id, timestamp, rating_denominator, rating_numerator, source\n",
    "- Correct incorrect dog names in column \"name\"\n",
    "- Correct missing decimals in column \"numerators\"\n",
    "- Correct data value in column \"source\" and \"text\"\n",
    "- Correct the data in column \"dog_stage\", i.e. 'doggopupper' or 'doggopuppo'       \n"
   ]
  }
 ],
 "metadata": {
  "kernelspec": {
   "display_name": "Python 3",
   "language": "python",
   "name": "python3"
  },
  "language_info": {
   "codemirror_mode": {
    "name": "ipython",
    "version": 3
   },
   "file_extension": ".py",
   "mimetype": "text/x-python",
   "name": "python",
   "nbconvert_exporter": "python",
   "pygments_lexer": "ipython3",
   "version": "3.6.3"
  }
 },
 "nbformat": 4,
 "nbformat_minor": 2
}
