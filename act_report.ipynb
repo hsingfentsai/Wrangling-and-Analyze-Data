{
 "cells": [
  {
   "cell_type": "markdown",
   "metadata": {},
   "source": [
    "## Report: act_report\n",
    "* Create a **250-word-minimum written report** called \"act_report.pdf\" or \"act_report.html\" that communicates the insights and displays the visualization(s) produced from your wrangled data. This is to be framed as an external document, like a blog post or magazine article, for example."
   ]
  },
  {
   "cell_type": "markdown",
   "metadata": {},
   "source": [
    "# Introduction\n",
    "Real-world data rarely comes clean, therfore data wrangling becomes crucial. The dataset in this project is the tweet archive of Twitter user @dog_rates, also known as WeRateDogs. WeRateDogs is a Twitter account that rates people's dogs with a humorous comment about the dog.\n",
    "\n",
    "This project works through the data wrangling process: Gathering data, Accessing data, and Cleaning data. There are  data visualiztion and observiation provided as well.\n",
    "\n",
    "The packages used in the project are pandas, NumPy, requests, tweepy, json."
   ]
  },
  {
   "cell_type": "markdown",
   "metadata": {},
   "source": [
    "## Gathering \n",
    "\n",
    "The project gather data from the following sources:\n",
    "\n",
    "1. The WeRateDogs Twitter archive: Provided by Udacity, contains basic tweet data (tweet ID, timestamp, text, etc.) for all 5000+ of their tweets as they stood on August 1, 2017. Of the 5000+ tweets, I have filtered for tweets with ratings only (there are 2356).\n",
    "2. The tweet image predictions: Provided by Udacity, is present in each tweet according to a neural network.\n",
    "3. Twitter API and Tweepy Library: Gather each tweet's retweet count and favorite (\"like\") count at the minimum and any additional data. \n"
   ]
  },
  {
   "cell_type": "markdown",
   "metadata": {},
   "source": [
    "## Accessing\n",
    "I focus on two aspects: Quality Issue & Tidiness Issue.\n",
    "\n",
    "Four Data Quality Dimension:\n",
    "* Completeness: Missing data\n",
    "* Validity: Invalid data\n",
    "* Accuracy: Inaccurate data\n",
    "* Consistency: Inconsistent data\n",
    "\n",
    "Three Data Tidiness Dimension:\n",
    "* Each variable forms a column.\n",
    "* Each observation forms a row.\n",
    "* Each type of observational unit forms a table.\n",
    "\n",
    "\n"
   ]
  },
  {
   "cell_type": "markdown",
   "metadata": {},
   "source": [
    "## Cleaning\n",
    "\n",
    "I use the Programmatic Data Cleaning Process to clean the dataset.\n",
    "It includes three process:\n",
    "1. Define- Determine what's the problem and how to solve.\n",
    "2. Code- Programmatically clean the code.\n",
    "3. Test- Ensure the issue has been successfully solved"
   ]
  },
  {
   "cell_type": "markdown",
   "metadata": {},
   "source": [
    "## Insights and Visualization\n",
    "\n",
    "I organized 3 analysis for this project.\n",
    "\n",
    "1. Mostly used Twitter source.\n",
    "\n",
    "The tweet data in the Twitter archive table are gather from four sources: Twitter for iphone, Vine - Make a Scene, Twitter Web Client, and TweetDeck. And Twitter for iphone has the most sources.\n",
    "\n",
    "2. Most popular dog name\n",
    "\n",
    "I extract the most popular dog names from top 1 to 10. The most popular names are Charlie, Lucy, Cooper, Oliver, Sadie.\n",
    "\n",
    "3. Correlation between Favorite and Retweet\n",
    "\n",
    "There is a positive correlation between the numbers of retweet and favorite(\"like\").\n"
   ]
  },
  {
   "cell_type": "code",
   "execution_count": null,
   "metadata": {},
   "outputs": [],
   "source": []
  }
 ],
 "metadata": {
  "kernelspec": {
   "display_name": "Python 3",
   "language": "python",
   "name": "python3"
  },
  "language_info": {
   "codemirror_mode": {
    "name": "ipython",
    "version": 3
   },
   "file_extension": ".py",
   "mimetype": "text/x-python",
   "name": "python",
   "nbconvert_exporter": "python",
   "pygments_lexer": "ipython3",
   "version": "3.6.3"
  }
 },
 "nbformat": 4,
 "nbformat_minor": 2
}
